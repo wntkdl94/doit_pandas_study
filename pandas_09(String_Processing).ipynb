{
 "cells": [
  {
   "cell_type": "markdown",
   "id": "worse-replacement",
   "metadata": {},
   "source": [
    "<img src=\"http://image.yes24.com/goods/64625506/800x0\" width=\"200\" height=\"200\"><br>"
   ]
  },
  {
   "cell_type": "markdown",
   "id": "manual-island",
   "metadata": {},
   "source": [
    "# 09 - 1 문자열 다루기\n",
    "\n",
    "## 파이썬과 문자열\n",
    "문자열은 작은따음표나 큰따옴표로 감싸서 만듭니다. 다음은 작은따옴표로 grail.a scratch라는 문자열 데이터를 만들어 변수 word, sent에 저장한 것입니다."
   ]
  },
  {
   "cell_type": "code",
   "execution_count": 1,
   "id": "worse-contest",
   "metadata": {},
   "outputs": [],
   "source": [
    "word = 'grail'\n",
    "sent = 'a scratch'"
   ]
  },
  {
   "cell_type": "markdown",
   "id": "confused-civilization",
   "metadata": {},
   "source": [
    "### 인덱스로 문자열 추출하기\n",
    "\n",
    "데이터프레임에서 인덱스를 이용하여 원하는 데이터를 추출했던 것을 기억하나요? 문자열도 인덱스를 사용하여 추출할 수 있습니다. 문자는 길이가 1인 문자열로 생각하면 됩니다. 다음은 문자열과 인덱스를 함께 나타낸 표입니다."
   ]
  },
  {
   "cell_type": "markdown",
   "id": "empty-thermal",
   "metadata": {},
   "source": [
    "### 문자열 grail과 인덱스\n",
    "\n",
    "인덱스 | 0 | 1 | 2 | 3 | 4 |\n",
    "------ | - | - | - | - | - |\n",
    "문자열 | g | r | a | i | l |\n",
    "음수인덱스 | -5 | -4 | -3 | -2 | -1 |"
   ]
  },
  {
   "cell_type": "markdown",
   "id": "frank-mouse",
   "metadata": {},
   "source": [
    "### 문자열 a scratch와 인덱스\n",
    "\n",
    "인덱스 | 0 | 1 | 2 | 3 | 4 | 5 | 6 | 7 | 8 |\n",
    "------ | - | - | - | - | - | - | - | - | - |\n",
    "문자열 | a |   | s | c | r | a | t | c | h |\n",
    "음수인덱스 | -9 | -8 | -7 | -6 | -5 | -4 | -3 | -2 | -1 |"
   ]
  },
  {
   "cell_type": "markdown",
   "id": "revolutionary-addiction",
   "metadata": {},
   "source": [
    "### 문자열 추출하기\n",
    "1.각 문자열의 첫 번째 문자는 아래와 같은 방법으로 추출합니다."
   ]
  },
  {
   "cell_type": "code",
   "execution_count": 3,
   "id": "characteristic-appearance",
   "metadata": {},
   "outputs": [
    {
     "name": "stdout",
     "output_type": "stream",
     "text": [
      "g\n"
     ]
    }
   ],
   "source": [
    "word = 'grail'\n",
    "sent = 'a scratch'\n",
    "\n",
    "print(word[0])"
   ]
  },
  {
   "cell_type": "code",
   "execution_count": 4,
   "id": "organized-appraisal",
   "metadata": {},
   "outputs": [
    {
     "name": "stdout",
     "output_type": "stream",
     "text": [
      "a\n"
     ]
    }
   ],
   "source": [
    "print(sent[0])"
   ]
  },
  {
   "cell_type": "markdown",
   "id": "terminal-assist",
   "metadata": {},
   "source": [
    "2.인덱스 슬라이싱을 사용하면 여러 개의 문자를 한 번에 추출할 수 있습니다. 아래에는 인덱스 슬라이싱을 사용하여 0~2번째 인덱스의 문자를 추출한 것입니다. 이때 대괄호에 지정한 왼쪽 범위(0)는 포함하고 오른쪽 범위(3)는 포함하지 않습니다. 즉, 인덱스가 0, 1, 2인 문자를 추출합니다."
   ]
  },
  {
   "cell_type": "code",
   "execution_count": 5,
   "id": "educated-sheep",
   "metadata": {},
   "outputs": [
    {
     "name": "stdout",
     "output_type": "stream",
     "text": [
      "gra\n"
     ]
    }
   ],
   "source": [
    "print(word[0:3])"
   ]
  },
  {
   "cell_type": "markdown",
   "id": "primary-building",
   "metadata": {},
   "source": [
    "3.음수를 사용해도 문자열을 추출할 수 있습니다. 만약 인덱스를 -1로 지정하여 문자열을 추출하면 마지막 문자가 추출됩니다. 아래는 다양한 방법으로 음수 범위의 인덱스 슬라이싱을 한 것입니다."
   ]
  },
  {
   "cell_type": "code",
   "execution_count": 6,
   "id": "durable-capacity",
   "metadata": {},
   "outputs": [
    {
     "name": "stdout",
     "output_type": "stream",
     "text": [
      "h\n"
     ]
    }
   ],
   "source": [
    "print(sent[-1])"
   ]
  },
  {
   "cell_type": "code",
   "execution_count": 7,
   "id": "loaded-biography",
   "metadata": {},
   "outputs": [
    {
     "name": "stdout",
     "output_type": "stream",
     "text": [
      "a\n"
     ]
    }
   ],
   "source": [
    "print(sent[-9:-8])"
   ]
  },
  {
   "cell_type": "code",
   "execution_count": 8,
   "id": "heard-begin",
   "metadata": {},
   "outputs": [
    {
     "name": "stdout",
     "output_type": "stream",
     "text": [
      "a\n"
     ]
    }
   ],
   "source": [
    "print(sent[0:-8])"
   ]
  },
  {
   "cell_type": "markdown",
   "id": "opposed-remove",
   "metadata": {},
   "source": [
    "## 전체 문자열 추출하기\n",
    "\n",
    "만약 인덱스 슬라이싱을 할 때 문자열 범위를 왼쪽 범위나 오른쪽 범위 중 하나만 지정하면 어떻게 될까? 왼쪽 범위가 비어 있으면 문자열의 첫 번째 위치부터 문자열을 추출합니다. 반대로 오른쪽 범위가 비어 있으면 문자열의 마지막 위치까지 문자열을 추출합니다. 즉 word[0:3]과 word[:3]은 같은 범위의 문자열을 추출합니다. 이런 성질을 이용하여 전체 문자열을 추출해 보겠습니다.\n",
    "\n",
    "### 왼쪽이나 오른쪽 범위를 지정하지 않고 문자열 추출하기\n",
    "\n",
    "1.왼쪽 범위를 비우고 문자열을 추출하면 아래와 같이 됩니다."
   ]
  },
  {
   "cell_type": "code",
   "execution_count": 9,
   "id": "difficult-vision",
   "metadata": {},
   "outputs": [
    {
     "name": "stdout",
     "output_type": "stream",
     "text": [
      "gra\n"
     ]
    }
   ],
   "source": [
    "print(word[0:3])"
   ]
  },
  {
   "cell_type": "code",
   "execution_count": 10,
   "id": "listed-keyboard",
   "metadata": {},
   "outputs": [
    {
     "name": "stdout",
     "output_type": "stream",
     "text": [
      "gra\n"
     ]
    }
   ],
   "source": [
    "print(word[ :3])"
   ]
  },
  {
   "cell_type": "markdown",
   "id": "presidential-rental",
   "metadata": {},
   "source": [
    "2.만약 오른쪽 범위를 비우면 문자열의 마지막 위치까지 문자열을 추출합니다."
   ]
  },
  {
   "cell_type": "code",
   "execution_count": 11,
   "id": "linear-woman",
   "metadata": {},
   "outputs": [
    {
     "name": "stdout",
     "output_type": "stream",
     "text": [
      "scratch\n"
     ]
    }
   ],
   "source": [
    "print(sent[2:len(sent)])"
   ]
  },
  {
   "cell_type": "code",
   "execution_count": 12,
   "id": "seeing-brass",
   "metadata": {},
   "outputs": [
    {
     "name": "stdout",
     "output_type": "stream",
     "text": [
      "scratch\n"
     ]
    }
   ],
   "source": [
    "print(sent[2: ])"
   ]
  },
  {
   "cell_type": "markdown",
   "id": "burning-mambo",
   "metadata": {},
   "source": [
    "3.양쪽을 모두 비우면 전체 문자열을 추출합니다."
   ]
  },
  {
   "cell_type": "code",
   "execution_count": 13,
   "id": "happy-feeding",
   "metadata": {},
   "outputs": [
    {
     "name": "stdout",
     "output_type": "stream",
     "text": [
      "a scratch\n"
     ]
    }
   ],
   "source": [
    "print(sent[ : ])"
   ]
  },
  {
   "cell_type": "markdown",
   "id": "distant-sixth",
   "metadata": {},
   "source": [
    "4.만약 문자열을 일정한 간격으로 건너뛰며 추출해야 한다면 콜론( : )을 하나 더 추가하여 추출 간격을 지정하면 됩니다. <tr>\n",
    "오른쪽은 전체 문자열을 추출하되 다음 추출 문자는 자신을 포함하여 거리가 2인 인덱스의 문자를 추출한 것입니다(1칸씩 건너뛰며 추출합니다.)"
   ]
  },
  {
   "cell_type": "code",
   "execution_count": 14,
   "id": "coastal-crime",
   "metadata": {},
   "outputs": [
    {
     "name": "stdout",
     "output_type": "stream",
     "text": [
      "asrth\n"
     ]
    }
   ],
   "source": [
    "print(sent[::2])"
   ]
  },
  {
   "cell_type": "markdown",
   "id": "warming-nurse",
   "metadata": {},
   "source": [
    "# 09 - 2 문자열 메서드\n",
    "\n",
    "지금까지 인덱스 슬라이싱으로 문자열을 추출하는 방법을 알아보았습니다. 그런데 문자열이 너무 길어서 내가 원하는 문자가 몇 번째 인덱스에 있는지 파악하기 어렵거나 문자열에 포함된 소문자를 모두 대문자로 바꾸고 싶다면 어떻게 해야 할까요? 이런 경우에는 문자열 메서드를 사용하면 됩니다. 자주 사용하는 문자열 메서드와 간단한 실습 코드를 다음표에 정리했습니다."
   ]
  },
  {
   "cell_type": "markdown",
   "id": "positive-updating",
   "metadata": {},
   "source": [
    "### 문자열 메서드\n",
    "\n",
    "메서드 | 설명\n",
    "---- | ----\n",
    "capitalize | 첫 문자를 대문자로 변홥합니다.\n",
    "count | 문자열의 개수를 반홥합니다.\n",
    "starswith | 문자열이 특정 문자로 시작하면 참이 됩니다.\n",
    "endswhit | 문자열이 특정 문자로 끝나면 참이 됩니다.\n",
    "find | 찾을 문자열의 첫 번째 인덱스를 반환합니다. 실패 시 -1을 반환합니다.\n",
    "index | find 메서드와 같은 역할을 수행하지만 실패시 ValueError를 반환합니다.\n",
    "isalpha | 모든 문자가 알파벳이면 참입니다.\n",
    "isdecimal | 모든 문자가 숫자면 참입니다.\n",
    "isalnum | 모든 문자가 알파벳이거나 숫자면 참입니다.\n",
    "lower | 모든 문자를 소문자로 변환합니다.\n",
    "upper | 모든 문자를 대문자로 변환합니다.\n",
    "replace | 문자열의 문자를 다른 문자로 교체합니다.\n",
    "strip | 문자열의 맨 앞과 맨 뒤에 있는 빈 칸을 제거합니다.\n",
    "split | 구분자를 지정하여 문자열을 나누고, 나눈 값들의 리스트를 반환합니다.\n",
    "partition | split 메서드와 비슷한 역할을 수행하지만 구분자도 반환합니다.\n",
    "center | 지정한 너비로 문자열을 늘이고 문자열을 가운데 정렬합니다.\n",
    "zfill | 문자열의 빈 칸을 '0'으로 채웁니다."
   ]
  },
  {
   "cell_type": "markdown",
   "id": "elementary-collins",
   "metadata": {},
   "source": [
    "### 파이썬 문자열 메서드 - 실습 코드\n",
    "\n",
    "실습코드 | 실행 결과\n",
    "---- | ----\n",
    "\"black Knight\".capitalize() | 'Black Knight'\n",
    "\"It's just a flesh wound!\".count('u') | 2\n",
    "\"Halt! Who goes there?\".startswiht('Halt') | True\n",
    "\"coconut\".endswhit('nut') | True\n",
    "\"It's just a flesh wound!\".find('u') | 7\n",
    "\"It's just a flesh wound!\".index('scratch') | valueError\n",
    "\"old woman\".isalpha() | False\n",
    "\"37\".isdecimal() | True\n",
    "\"I'm 37\".isalnum() | False\n",
    "\"Black Knight\".lower() | 'black knight'\n",
    "\"Black Knight\".upper() | 'BRACK KNIGHT'\n",
    "\"flesh wound!\".replace('flesh wound', 'scratch) | 'scratch'\n",
    "\"I'm not dead. \".strip() | \"i'm not dead\"\n",
    "\"NI! NI! NI! NI!\".split(sep=' ') | ['NI!', 'NI!', 'NI!', NI!']\n",
    "\"3,4.partition(',') | ('3',',','4')\n",
    "\"nine\".center(10) | ' nine '\n",
    "\"9\".zfill(with=5) | '00009'\n"
   ]
  },
  {
   "cell_type": "markdown",
   "id": "arabic-burns",
   "metadata": {},
   "source": [
    "### join splitlines, replace 메서드 실습하기\n",
    "\n",
    "#### join 메서드\n",
    "join 메서드는 문자열을 연결하여 새로운 문자열을 반환하는 메서드입니다. 다음은 분리된 좌표 데이터를 합친 것입니다. <tr>\n",
    "이때 join 메서드 앞에 문자(' ')를 지정하면 해당 문자를 단어 사이에 넣어 연결해 줍니다."
   ]
  },
  {
   "cell_type": "code",
   "execution_count": 15,
   "id": "sustained-cross",
   "metadata": {},
   "outputs": [
    {
     "name": "stdout",
     "output_type": "stream",
     "text": [
      "40 46' 52.837\" N 73 58' 26.302\" W\n"
     ]
    }
   ],
   "source": [
    "d1 = '40'\n",
    "m1 = \"46'\"\n",
    "s1 = '52.837\"'\n",
    "u1 = 'N'\n",
    "\n",
    "d2 = '73'\n",
    "m2 = \"58'\"\n",
    "s2 = '26.302\"'\n",
    "u2 = 'W'\n",
    "\n",
    "coords = ' '.join([d1,m1,s1,u1,d2,m2,s2,u2])\n",
    "print(coords)"
   ]
  },
  {
   "cell_type": "markdown",
   "id": "sporting-bishop",
   "metadata": {},
   "source": [
    "### 2.splitlines 메서드\n",
    "이번에는 splitlines 메서드에 대해 알아보자. splitlines 메서드는 여러 행을 가진 문자열을 분리한 다음 리스트로 반환합니다. <tr>\n",
    "multi_str에 저장된 문자열을 splitlines 메서드로 분리하면 다음과 같이 됩니다."
   ]
  },
  {
   "cell_type": "code",
   "execution_count": 16,
   "id": "golden-train",
   "metadata": {},
   "outputs": [
    {
     "name": "stdout",
     "output_type": "stream",
     "text": [
      "Guard: What? Ridden on a horse?\n",
      "King Arther: Yes!\n",
      "Guard: You're using coconuts!\n",
      "King Arthur: What?\n",
      "Guard: You've got ... coconut[s] and you're bangin' 'em together.\n",
      "\n"
     ]
    }
   ],
   "source": [
    "multi_str =\"\"\"Guard: What? Ridden on a horse?\n",
    "King Arther: Yes!\n",
    "Guard: You're using coconuts!\n",
    "King Arthur: What?\n",
    "Guard: You've got ... coconut[s] and you're bangin' 'em together.\n",
    "\"\"\"\n",
    "\n",
    "print(multi_str)"
   ]
  },
  {
   "cell_type": "code",
   "execution_count": 17,
   "id": "convertible-hello",
   "metadata": {},
   "outputs": [
    {
     "name": "stdout",
     "output_type": "stream",
     "text": [
      "['Guard: What? Ridden on a horse?', 'King Arther: Yes!', \"Guard: You're using coconuts!\", 'King Arthur: What?', \"Guard: You've got ... coconut[s] and you're bangin' 'em together.\"]\n"
     ]
    }
   ],
   "source": [
    "multi_str_split = multi_str.splitlines()\n",
    "print(multi_str_split)"
   ]
  },
  {
   "cell_type": "markdown",
   "id": "respective-barcelona",
   "metadata": {},
   "source": [
    "3.인덱스 슬라이싱을 응용하면 특정 문자열만 가져올 수도 있습니다. 다음은 Guard의 대사만 가져온 것입니다."
   ]
  },
  {
   "cell_type": "code",
   "execution_count": 18,
   "id": "leading-spokesman",
   "metadata": {},
   "outputs": [
    {
     "name": "stdout",
     "output_type": "stream",
     "text": [
      "['Guard: What? Ridden on a horse?', \"Guard: You're using coconuts!\", \"Guard: You've got ... coconut[s] and you're bangin' 'em together.\"]\n"
     ]
    }
   ],
   "source": [
    "guard = multi_str_split[::2]\n",
    "print(guard)"
   ]
  },
  {
   "cell_type": "markdown",
   "id": "trained-surge",
   "metadata": {},
   "source": [
    "#### 4. replace 메서드\n",
    "만약 Guard의 대사에서 'Guard:'라는 문자열을 빼고 싶다면 어떻게 해야 할까? 그럴 때는 문자열을 치환해 주는 replace 메서드를 사용하면 됩니다. 다음과 같이 \"Guard: \"를 \"\"로 치환하여 Guard: 를 없앴습니다."
   ]
  },
  {
   "cell_type": "code",
   "execution_count": 19,
   "id": "tracked-attack",
   "metadata": {},
   "outputs": [
    {
     "name": "stdout",
     "output_type": "stream",
     "text": [
      "['What? Ridden on a horse?', \"You're using coconuts!\", \"You've got ... coconut[s] and you're bangin' 'em together.\"]\n"
     ]
    }
   ],
   "source": [
    "guard = multi_str.replace(\"Guard: \", \"\").splitlines()[::2]\n",
    "print(guard)"
   ]
  },
  {
   "cell_type": "markdown",
   "id": "compliant-campaign",
   "metadata": {},
   "source": [
    "# 09 - 3 문자열 포매팅\n",
    "\n",
    "## 문자열 포매팅 하기\n",
    "문자열 포매팅은 문자열을 편리하게 출력할 수 있게 해주는 기능입니다. 예를들어 I can swim, I can fiy, i can run과 같은 문자열은 I can이라는 문자열에 swim, run, fly와 같은 단어만 바꿔 넣어 출력하는 것이 더 편리합니다. 즉, 문자열 포매팅이란 출력할 문자열의 형식을 지정하거나 변수를 조합하여 출력하는 방법을 말합니다.\n",
    "\n",
    "### 문자열 포매팅하기\n",
    "1.다음과 같이 단어를 삽입할 위치를 {}로 지정하고 format 메서드에 원하는 단어를 전달하면 {}의 위치에 전달한 단어를 삽입해 출력합니다. 이때 {}를 플레이스 홀더라고 부릅니다."
   ]
  },
  {
   "cell_type": "code",
   "execution_count": 1,
   "id": "supposed-disability",
   "metadata": {},
   "outputs": [
    {
     "name": "stdout",
     "output_type": "stream",
     "text": [
      "It' s just a flesh wound!\n"
     ]
    }
   ],
   "source": [
    "var = 'flesh wound'\n",
    "s = \"It' s just a {}!\"\n",
    "\n",
    "print(s.format(var))"
   ]
  },
  {
   "cell_type": "code",
   "execution_count": 2,
   "id": "equipped-miracle",
   "metadata": {},
   "outputs": [
    {
     "name": "stdout",
     "output_type": "stream",
     "text": [
      "It' s just a scratch!\n"
     ]
    }
   ],
   "source": [
    "print(s.format('scratch'))"
   ]
  },
  {
   "cell_type": "markdown",
   "id": "interracial-beatles",
   "metadata": {},
   "source": [
    "2.플레이스 홀더는 여러 번 사용해도 됩니다. 하지만 여러 단어를 전달할 때는 어떻게 해야 할까? <tr>\n",
    "format 메서드에 여러 단어를 전달하려면 인덱스 개념을 응용하면 됩니다. 다음은 1개의 단어만 사용합니다. 따라서 인덱스를 0으로 지정한 플레이스 홀더를 사용했습니다."
   ]
  },
  {
   "cell_type": "code",
   "execution_count": 4,
   "id": "mathematical-genome",
   "metadata": {},
   "outputs": [
    {
     "name": "stdout",
     "output_type": "stream",
     "text": [
      "Black Knight: 'Tis but a scratch.\n",
      "King Arthur: A scratch? Your arm's off!\n",
      "\n"
     ]
    }
   ],
   "source": [
    "s = \"\"\"Black Knight: 'Tis but a {0}.\n",
    "King Arthur: A {0}? Your arm's off!\n",
    "\"\"\"\n",
    "\n",
    "print(s.format('scratch'))"
   ]
  },
  {
   "cell_type": "markdown",
   "id": "clean-cocktail",
   "metadata": {},
   "source": [
    "3.플레이스 홀더에는 변수를 지정해도 됩니다. 단, format 메서드에 전달하는 문자열도 변수에 담아 전달해야 합니다."
   ]
  },
  {
   "cell_type": "code",
   "execution_count": 5,
   "id": "physical-muslim",
   "metadata": {},
   "outputs": [
    {
     "name": "stdout",
     "output_type": "stream",
     "text": [
      "Hayden Planetarinm Coordinates: 40.7815 N, 73.9733 W\n"
     ]
    }
   ],
   "source": [
    "s = 'Hayden Planetarinm Coordinates: {lat}, {lon}'\n",
    "print(s.format(lat='40.7815 N', lon='73.9733 W'))"
   ]
  },
  {
   "cell_type": "markdown",
   "id": "further-recording",
   "metadata": {},
   "source": [
    "### 숫자 데이터 포매팅하기\n",
    "숫자 데이터 포매팅을 사용하면 실수의 소수점을 어디까지 출력할지 등을 설정할 수 있습니다.\n",
    "\n",
    "#### 숫자 데이터 포매팅하기\n",
    "1.숫자 데이터도 플레이스 홀더를 사용할 수 있습니다."
   ]
  },
  {
   "cell_type": "code",
   "execution_count": 6,
   "id": "historic-hobby",
   "metadata": {},
   "outputs": [
    {
     "name": "stdout",
     "output_type": "stream",
     "text": [
      "Some digits of pi: 3.14159265359\n"
     ]
    }
   ],
   "source": [
    "print('Some digits of pi: {}'.format(3.14159265359))"
   ]
  },
  {
   "cell_type": "markdown",
   "id": "central-possession",
   "metadata": {},
   "source": [
    "2.플레이스 홀더에 :,를 넣으면 쉼표를 넣어 숫자를 표현할 수도 있습니다."
   ]
  },
  {
   "cell_type": "code",
   "execution_count": 7,
   "id": "behavioral-border",
   "metadata": {},
   "outputs": [
    {
     "name": "stdout",
     "output_type": "stream",
     "text": [
      "In 2005, Lu Chao of China recited 67,890 digits of pi\n"
     ]
    }
   ],
   "source": [
    "print(\"In 2005, Lu Chao of China recited {:,} digits of pi\".format(67890))"
   ]
  },
  {
   "cell_type": "markdown",
   "id": "informed-horse",
   "metadata": {},
   "source": [
    "3.소수는 좀 더 다양한 방법으로 포매팅할 수 있습니다. 다음은 플레이스 홀더에 0:.4, 0:.4%를 넣어 7/67890의 결괏값을 포매팅한 것입니다. {0:.4}과 {0:.4%}에서 0은 fotmat 메서드에서 전달받은 값(7/67890)의 인덱스를 의미하고 .4는 소수점 이하의 숫자를 4개까지 출력하겠다는 것을 의미합니다. 이때 %를 사용하면 7/67890의 결괏값을 백분율로 환산하여 출력합니다"
   ]
  },
  {
   "cell_type": "code",
   "execution_count": 8,
   "id": "assigned-passing",
   "metadata": {},
   "outputs": [
    {
     "name": "stdout",
     "output_type": "stream",
     "text": [
      "I remember 0.0001031 or 0.0103% of what Lu Chao recited\n"
     ]
    }
   ],
   "source": [
    "print(\"I remember {0:.4} or {0:.4%} of what Lu Chao recited\".format(7/67890))"
   ]
  },
  {
   "cell_type": "markdown",
   "id": "excited-economy",
   "metadata": {},
   "source": [
    "4.만약 사용자의 아이디가 5자리의 숫자로 표현되어야 한다면 42와 같은 2자라의 값은 00042로 출력해야겠죠. 다음은 format의 0번째 값(42)을 5자리의 수로 표현하되 빈 칸을 0으로 채워 출력한 것입니다."
   ]
  },
  {
   "cell_type": "code",
   "execution_count": 11,
   "id": "extensive-ladder",
   "metadata": {},
   "outputs": [
    {
     "name": "stdout",
     "output_type": "stream",
     "text": [
      "My ID number is 00042\n"
     ]
    }
   ],
   "source": [
    "print(\"My ID number is {0:05d}\".format(42))"
   ]
  },
  {
   "cell_type": "markdown",
   "id": "ancient-cancer",
   "metadata": {},
   "source": [
    "### %연산자로 포매팅하기\n",
    "1.만약 삽입할 값이 10진수라면 값을 삽입할 위치에 %d라고 입력해야 합니다. 그런 다음 %연산자를 이용하여 삽입할 값(7)을 지정하여 출력합니다."
   ]
  },
  {
   "cell_type": "code",
   "execution_count": 12,
   "id": "rolled-substitute",
   "metadata": {},
   "outputs": [
    {
     "name": "stdout",
     "output_type": "stream",
     "text": [
      "I only know 7 digits of pi\n"
     ]
    }
   ],
   "source": [
    "s = 'I only know %d digits of pi' % 7\n",
    "print(s)"
   ]
  },
  {
   "cell_type": "markdown",
   "id": "referenced-tactics",
   "metadata": {},
   "source": [
    "2.만약 삽입할 값이 문자열이라면 값을 삽입할 위치에 %s라고 입력해야 합니다. 이때 %와 s 사이에 소괄호를 사용하여 변수를 지정합니다."
   ]
  },
  {
   "cell_type": "code",
   "execution_count": 13,
   "id": "iraqi-sponsorship",
   "metadata": {},
   "outputs": [
    {
     "name": "stdout",
     "output_type": "stream",
     "text": [
      "Some digits of e: 2.72\n"
     ]
    }
   ],
   "source": [
    "print('Some digits of %(cont)s: %(value).2f' % {'cont': 'e', 'value': 2.718})"
   ]
  },
  {
   "cell_type": "markdown",
   "id": "smart-southwest",
   "metadata": {},
   "source": [
    "# 09 - 4 정규식으로 문자열 처리에 날개 달기\n",
    "\n",
    "기본 정규식 문법\n",
    "\n",
    "문법 | 실습 코드 | 설명\n",
    "--- | --- | ---\n",
    ". | .a | 문자(a)앞에 문자 1개가 있는 패턴을 찾습니다.\n",
    "^ | ^I like | 문자열의 처음부터 일치하는 패턴을 찾습니다.\n",
    "＄ | on＄ | 문자열의 끝 부분부터 일치하는 패턴을 찾습니다.\n",
    "* | n\\d* | n 이후 숫자(\\d)가 0개 이상인 패턴을 찾습니다.\n",
    "+ | n\\d+ | n 이후 숫자(\\d)가 1개 이상인 패턴을 찾습니다.\n",
    "? | apple? | ?의 앞에 문자(e)가 있거나 없는 패턴을 찾습니다.\n",
    "{m} | n\\d{2} | n이후 숫자(\\d)가 2개({2})인 패턴을 찾습니다.\n",
    "{m,n} | n\\d{2, 4} | n이후 숫자(\\d)가 2개({2}) 이상,4개({4}) 이하의 패턴을 찾습니다.\n",
    "\\ | \\*, \\?, \\+ | *, ? , + 와 같은 특수 문자를 검색할 때 이스케이프 문자(\\)를 사용합니다.\n",
    "[] | [cfh]all | c, f, h 중 1개를 포함하고 나머지 문자열이 all인 패턴을 찾습니다.\n",
    "I | apple I applicatoin | apple이나 application 중 하나만 있는 패턴을 찾습니다(OR 연산)\n",
    "() | (\\d+)-(\\d+)-(\\d+) | ()에 지정한 패턴을 찾을 때 사용합니다."
   ]
  },
  {
   "cell_type": "markdown",
   "id": "peaceful-cooperation",
   "metadata": {},
   "source": [
    "### 정규식 특수 문자\n",
    "\n",
    "특수문자 | 설명\n",
    "--- | ---\n",
    "\\d | 숫자 1개를 의미합니다([0-9]와 동일).\n",
    "\\D | 숫자 의외의 문자 1개를 의미합니다([^0-9]와 동일).\n",
    "\\s | 공백이나 탭 1개를 의미합니다.\n",
    "\\S | 공백 문자 이외의 문자 1개를 의미합니다.\n",
    "\\w | 알파벳 1개를 의미합니다.\n",
    "\\W | 알파벳 의외의 문자 1개를 의미합니다(한글,중국어 등)"
   ]
  },
  {
   "cell_type": "markdown",
   "id": "flush-baseball",
   "metadata": {},
   "source": [
    "### 정규식 표현 - 메서드\n",
    "\n",
    "정규식 메서드는 정규식 패턴을 사용하지 않아도 메서드를 호출하는 방법으로 원하는 패턴의 문자열을 찾을 수 있도록 해줍니다.\n",
    "\n",
    "### 정규식 메서드\n",
    "\n",
    "함수 | 설명\n",
    "--- | ---\n",
    "search | 첫 번째로 찾은 패턴의 양 끝 인덱스를 반홥합니다.\n",
    "match | 문자열의 처음부터 검색하여 찾아낸 패턴의 양 끝 인덱스를 반환합니다.\n",
    "fullmatch | 전체 문자열이 일치하는지 검사합니다.\n",
    "split | 지정한 패턴으로 잘라낸 문자열 리스트로 반환합니다.\n",
    "finditer | findall 메서드와 기능이 동일하지만 iterator를 반홥합니다.\n",
    "sub | 첫 번째 인자로 전달한 값(패턴)을 두 번째 인자로 전달한 값(easyspub)으로 교체합니다\n",
    "\n",
    "## 정규식으로 전화번호 패턴 찾기\n",
    "전화번호와 같은 단순한 데이터도 복잡하고 다양한 정규식이 필요합니다. 처음에는 정규식이 복잡하고 어려워 보여 부담스러울 수 있습니다. 하지만 정규식은 원하는 패턴의 문자열을 가장 효율적으로 찾아주는 방법입니다. 따라서 데이터 분석이 필요한 분야에서는 정규식을 알아두면 좋습니다.\n",
    "\n",
    "1.다음과 같이 re 모듈과 테스트용 문자열을 준비합니다."
   ]
  },
  {
   "cell_type": "code",
   "execution_count": 14,
   "id": "limiting-alcohol",
   "metadata": {},
   "outputs": [],
   "source": [
    "import re\n",
    "\n",
    "tele_num = '1234567890'"
   ]
  },
  {
   "cell_type": "markdown",
   "id": "secure-savannah",
   "metadata": {},
   "source": [
    "2.match 메서드를 사용하여 길이가 10인 숫자를 확인해 보겠습니다. pattern 인자에는 10개의 숫자를 의미하는 10개의 \\d를, string에는 테스트용 문자열인 tele_num을 전달했습니다. 만약 패턴을 찾으면 Match 오브젝트를 반환합니다. Match 오브젝트를 출력하면 span에는 찾은 패턴의 인덱스가, match에는 찾은 패턴의 문자열이 있는 것을 확인할 수 있습니다."
   ]
  },
  {
   "cell_type": "code",
   "execution_count": 16,
   "id": "established-maintenance",
   "metadata": {},
   "outputs": [
    {
     "name": "stdout",
     "output_type": "stream",
     "text": [
      "<class '_sre.SRE_Match'>\n"
     ]
    }
   ],
   "source": [
    "m = re.match(pattern='\\d\\d\\d\\d\\d\\d\\d\\d\\d\\d', string=tele_num)\n",
    "print(type(m))"
   ]
  },
  {
   "cell_type": "code",
   "execution_count": 17,
   "id": "varying-punch",
   "metadata": {},
   "outputs": [
    {
     "name": "stdout",
     "output_type": "stream",
     "text": [
      "<_sre.SRE_Match object; span=(0, 10), match='1234567890'>\n"
     ]
    }
   ],
   "source": [
    "print(m)"
   ]
  },
  {
   "cell_type": "markdown",
   "id": "brazilian-broadway",
   "metadata": {},
   "source": [
    "3.이때 bool 메서드에 m을 전달하면 True나 Flase를 얻을 수 있습니다. 즉, match 메서드가 반환한 Match 오브젝트는 bool 메서드로 True,False를 판단할 수 있습니다."
   ]
  },
  {
   "cell_type": "code",
   "execution_count": 18,
   "id": "adjusted-determination",
   "metadata": {},
   "outputs": [
    {
     "name": "stdout",
     "output_type": "stream",
     "text": [
      "True\n"
     ]
    }
   ],
   "source": [
    "print(bool(m))"
   ]
  },
  {
   "cell_type": "code",
   "execution_count": 19,
   "id": "unknown-sarah",
   "metadata": {},
   "outputs": [
    {
     "name": "stdout",
     "output_type": "stream",
     "text": [
      "match\n"
     ]
    }
   ],
   "source": [
    "if m:\n",
    "    print('match')\n",
    "else:\n",
    "    print('no match')"
   ]
  },
  {
   "cell_type": "markdown",
   "id": "distinct-wales",
   "metadata": {},
   "source": [
    "4.Match 오브젝트에는 찾아낸 패턴의 정보를 확인할 수 있는 다양한 메서드가 있습니다. start와 end 메서드는 첫 번째와 마지막 인덱스를 반환합니다. span 메서드는 찾은 패턴의 첫 번째와 마지막 인덱스를 한 번에 반환합니다. group 메서드는 찾아낸 패턴을 반환합니다."
   ]
  },
  {
   "cell_type": "code",
   "execution_count": 20,
   "id": "judicial-proxy",
   "metadata": {},
   "outputs": [
    {
     "name": "stdout",
     "output_type": "stream",
     "text": [
      "0\n"
     ]
    }
   ],
   "source": [
    "print(m.start())"
   ]
  },
  {
   "cell_type": "code",
   "execution_count": 21,
   "id": "simple-delhi",
   "metadata": {},
   "outputs": [
    {
     "name": "stdout",
     "output_type": "stream",
     "text": [
      "10\n"
     ]
    }
   ],
   "source": [
    "print(m.end())"
   ]
  },
  {
   "cell_type": "code",
   "execution_count": 22,
   "id": "computational-extreme",
   "metadata": {},
   "outputs": [
    {
     "name": "stdout",
     "output_type": "stream",
     "text": [
      "(0, 10)\n"
     ]
    }
   ],
   "source": [
    "print(m.span())"
   ]
  },
  {
   "cell_type": "code",
   "execution_count": 23,
   "id": "restricted-dominican",
   "metadata": {},
   "outputs": [
    {
     "name": "stdout",
     "output_type": "stream",
     "text": [
      "1234567890\n"
     ]
    }
   ],
   "source": [
    "print(m.group())"
   ]
  },
  {
   "cell_type": "markdown",
   "id": "attempted-house",
   "metadata": {},
   "source": [
    "5.그런데 전화번호를 입력하는 방법은 1234567890이 아니라 123-456-7890이나 123 456 7890과 같은 방법도 있습니다. 다음은 앞에서 사용한 패턴을 그대로 적용하여 123 456 7890을 검사한 것입니다. 그러면 패턴을 찾지 못해 Match 오브젝트가 아닌 None을 출력합니다."
   ]
  },
  {
   "cell_type": "code",
   "execution_count": 24,
   "id": "designed-catalog",
   "metadata": {},
   "outputs": [
    {
     "name": "stdout",
     "output_type": "stream",
     "text": [
      "None\n"
     ]
    }
   ],
   "source": [
    "tele_num_spaces = '123 456 7890'\n",
    "m = re.match(pattern='\\d{10}', string=tele_num_spaces)\n",
    "print(m)"
   ]
  },
  {
   "cell_type": "code",
   "execution_count": 25,
   "id": "thirty-biology",
   "metadata": {},
   "outputs": [
    {
     "name": "stdout",
     "output_type": "stream",
     "text": [
      "no match\n"
     ]
    }
   ],
   "source": [
    "if m:\n",
    "    print('match')\n",
    "else:\n",
    "    print('no match')"
   ]
  },
  {
   "cell_type": "markdown",
   "id": "metallic-contributor",
   "metadata": {},
   "source": [
    "6.과정 5의 문제를 해결하려면 정규시을 다시 작성해야 합니다. 다음과 같이 빈 칸을 의미하는 정규식 \\s?를 넣어 패턴을 다시 만들었습니다."
   ]
  },
  {
   "cell_type": "code",
   "execution_count": 26,
   "id": "future-phoenix",
   "metadata": {},
   "outputs": [
    {
     "name": "stdout",
     "output_type": "stream",
     "text": [
      "<_sre.SRE_Match object; span=(0, 12), match='123 456 7890'>\n"
     ]
    }
   ],
   "source": [
    "p = '\\d{3}\\s?\\d{3}\\s?\\d{4}'\n",
    "m = re.match(pattern=p, string=tele_num_spaces)\n",
    "print(m)"
   ]
  },
  {
   "cell_type": "markdown",
   "id": "enclosed-bangkok",
   "metadata": {},
   "source": [
    "7.지역 코드는 소괄호로 감싸고 나머지 번호는 반각 기호로 구분한 전화번호의 정규식은 다음과 같이 작성합니다."
   ]
  },
  {
   "cell_type": "code",
   "execution_count": 27,
   "id": "fantastic-nowhere",
   "metadata": {},
   "outputs": [
    {
     "name": "stdout",
     "output_type": "stream",
     "text": [
      "<_sre.SRE_Match object; span=(0, 14), match='(123) 456-7890'>\n"
     ]
    }
   ],
   "source": [
    "tele_num_space_paren_dash = '(123) 456-7890'\n",
    "p = '\\(?\\d{3}\\)?\\s?\\d{3}\\s?-?\\d{4}'\n",
    "m = re.match(pattern=p, string=tele_num_space_paren_dash)\n",
    "print(m)"
   ]
  },
  {
   "cell_type": "markdown",
   "id": "controlled-cycling",
   "metadata": {},
   "source": [
    "8.국가 코드까지 있는 전화번호의 정규식은 다음과 같이 장석합니다."
   ]
  },
  {
   "cell_type": "code",
   "execution_count": 30,
   "id": "extensive-wholesale",
   "metadata": {},
   "outputs": [
    {
     "name": "stdout",
     "output_type": "stream",
     "text": [
      "<_sre.SRE_Match object; span=(0, 17), match='+1 (123) 456-7890'>\n"
     ]
    }
   ],
   "source": [
    "cnty_tele_num_space_paren_dash = '+1 (123) 456-7890'\n",
    "p = '\\+?1\\s?\\(?\\d{3}\\)?\\s?\\d{3}\\s?-?\\d{4}'\n",
    "m = re.match(pattern=p, string=cnty_tele_num_space_paren_dash)\n",
    "print(m)"
   ]
  },
  {
   "cell_type": "markdown",
   "id": "coastal-printing",
   "metadata": {},
   "source": [
    "### 마무리하며\n",
    "\n",
    "세상에는 문자열로 이루어진 데이터가 너무나도 많습니다. 그래서 데이터 과학자들은 문자열을 처리하는 방법을 매우 중요하게 생각합니다. 그래서 9장에서는 판다스와 전혀 상관없어 보이는 문자열 처리방법을 설명한 것입니다.\n",
    "다음으로 가기전 예저를 한번씩 실습해 보기 바랍니다."
   ]
  },
  {
   "cell_type": "code",
   "execution_count": null,
   "id": "trained-blink",
   "metadata": {},
   "outputs": [],
   "source": []
  }
 ],
 "metadata": {
  "kernelspec": {
   "display_name": "Python 3",
   "language": "python",
   "name": "python3"
  },
  "language_info": {
   "codemirror_mode": {
    "name": "ipython",
    "version": 3
   },
   "file_extension": ".py",
   "mimetype": "text/x-python",
   "name": "python",
   "nbconvert_exporter": "python",
   "pygments_lexer": "ipython3",
   "version": "3.6.9"
  }
 },
 "nbformat": 4,
 "nbformat_minor": 5
}
