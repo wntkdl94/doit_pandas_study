{
 "cells": [
  {
   "cell_type": "markdown",
   "id": "manual-island",
   "metadata": {},
   "source": [
    "# 09 - 1 문자열 다루기\n",
    "\n",
    "## 파이썬과 문자열\n",
    "문자열은 작은따음표나 큰따옴표로 감싸서 만듭니다. 다음은 작은따옴표로 grail.a scratch라는 문자열 데이터를 만들어 변수 word, sent에 저장한 것입니다."
   ]
  },
  {
   "cell_type": "code",
   "execution_count": 1,
   "id": "worse-contest",
   "metadata": {},
   "outputs": [],
   "source": [
    "word = 'grail'\n",
    "sent = 'a scratch'"
   ]
  },
  {
   "cell_type": "markdown",
   "id": "confused-civilization",
   "metadata": {},
   "source": [
    "### 인덱스로 문자열 추출하기\n",
    "\n",
    "데이터프레임에서 인덱스를 이용하여 원하는 데이터를 추출했던 것을 기억하나요? 문자열도 인덱스를 사용하여 추출할 수 있습니다. 문자는 길이가 1인 문자열로 생각하면 됩니다. 다음은 문자열과 인덱스를 함께 나타낸 표입니다."
   ]
  },
  {
   "cell_type": "markdown",
   "id": "empty-thermal",
   "metadata": {},
   "source": [
    "### 문자열 grail과 인덱스\n",
    "\n",
    "인덱스 | 0 | 1 | 2 | 3 | 4 |\n",
    "------ | - | - | - | - | - |\n",
    "문자열 | g | r | a | i | l |\n",
    "음수인덱스 | -5 | -4 | -3 | -2 | -1 |"
   ]
  },
  {
   "cell_type": "markdown",
   "id": "frank-mouse",
   "metadata": {},
   "source": [
    "### 문자열 a scratch와 인덱스\n",
    "\n",
    "인덱스 | 0 | 1 | 2 | 3 | 4 | 5 | 6 | 7 | 8 |\n",
    "------ | - | - | - | - | - | - | - | - | - |\n",
    "문자열 | a |   | s | c | r | a | t | c | h |\n",
    "음수인덱스 | -9 | -8 | -7 | -6 | -5 | -4 | -3 | -2 | -1 |"
   ]
  },
  {
   "cell_type": "markdown",
   "id": "revolutionary-addiction",
   "metadata": {},
   "source": [
    "### 문자열 추출하기\n",
    "1.각 문자열의 첫 번째 문자는 아래와 같은 방법으로 추출합니다."
   ]
  },
  {
   "cell_type": "code",
   "execution_count": 3,
   "id": "characteristic-appearance",
   "metadata": {},
   "outputs": [
    {
     "name": "stdout",
     "output_type": "stream",
     "text": [
      "g\n"
     ]
    }
   ],
   "source": [
    "word = 'grail'\n",
    "sent = 'a scratch'\n",
    "\n",
    "print(word[0])"
   ]
  },
  {
   "cell_type": "code",
   "execution_count": 4,
   "id": "organized-appraisal",
   "metadata": {},
   "outputs": [
    {
     "name": "stdout",
     "output_type": "stream",
     "text": [
      "a\n"
     ]
    }
   ],
   "source": [
    "print(sent[0])"
   ]
  },
  {
   "cell_type": "markdown",
   "id": "terminal-assist",
   "metadata": {},
   "source": [
    "2.인덱스 슬라이싱을 사용하면 여러 개의 문자를 한 번에 추출할 수 있습니다. 아래에는 인덱스 슬라이싱을 사용하여 0~2번째 인덱스의 문자를 추출한 것입니다. 이때 대괄호에 지정한 왼쪽 범위(0)는 포함하고 오른쪽 범위(3)는 포함하지 않습니다. 즉, 인덱스가 0, 1, 2인 문자를 추출합니다."
   ]
  },
  {
   "cell_type": "code",
   "execution_count": 5,
   "id": "educated-sheep",
   "metadata": {},
   "outputs": [
    {
     "name": "stdout",
     "output_type": "stream",
     "text": [
      "gra\n"
     ]
    }
   ],
   "source": [
    "print(word[0:3])"
   ]
  },
  {
   "cell_type": "markdown",
   "id": "primary-building",
   "metadata": {},
   "source": [
    "3.음수를 사용해도 문자열을 추출할 수 있습니다. 만약 인덱스를 -1로 지정하여 문자열을 추출하면 마지막 문자가 추출됩니다. 아래는 다양한 방법으로 음수 범위의 인덱스 슬라이싱을 한 것입니다."
   ]
  },
  {
   "cell_type": "code",
   "execution_count": 6,
   "id": "durable-capacity",
   "metadata": {},
   "outputs": [
    {
     "name": "stdout",
     "output_type": "stream",
     "text": [
      "h\n"
     ]
    }
   ],
   "source": [
    "print(sent[-1])"
   ]
  },
  {
   "cell_type": "code",
   "execution_count": 7,
   "id": "loaded-biography",
   "metadata": {},
   "outputs": [
    {
     "name": "stdout",
     "output_type": "stream",
     "text": [
      "a\n"
     ]
    }
   ],
   "source": [
    "print(sent[-9:-8])"
   ]
  },
  {
   "cell_type": "code",
   "execution_count": 8,
   "id": "heard-begin",
   "metadata": {},
   "outputs": [
    {
     "name": "stdout",
     "output_type": "stream",
     "text": [
      "a\n"
     ]
    }
   ],
   "source": [
    "print(sent[0:-8])"
   ]
  },
  {
   "cell_type": "markdown",
   "id": "opposed-remove",
   "metadata": {},
   "source": [
    "## 전체 문자열 추출하기\n",
    "\n",
    "만약 인덱스 슬라이싱을 할 때 문자열 범위를 왼쪽 범위나 오른쪽 범위 중 하나만 지정하면 어떻게 될까? 왼쪽 범위가 비어 있으면 문자열의 첫 번째 위치부터 문자열을 추출합니다. 반대로 오른쪽 범위가 비어 있으면 문자열의 마지막 위치까지 문자열을 추출합니다. 즉 word[0:3]과 word[:3]은 같은 범위의 문자열을 추출합니다. 이런 성질을 이용하여 전체 문자열을 추출해 보겠습니다.\n",
    "\n",
    "### 왼쪽이나 오른쪽 범위를 지정하지 않고 문자열 추출하기\n",
    "\n",
    "1.왼쪽 범위를 비우고 문자열을 추출하면 아래와 같이 됩니다."
   ]
  },
  {
   "cell_type": "code",
   "execution_count": 9,
   "id": "difficult-vision",
   "metadata": {},
   "outputs": [
    {
     "name": "stdout",
     "output_type": "stream",
     "text": [
      "gra\n"
     ]
    }
   ],
   "source": [
    "print(word[0:3])"
   ]
  },
  {
   "cell_type": "code",
   "execution_count": 10,
   "id": "listed-keyboard",
   "metadata": {},
   "outputs": [
    {
     "name": "stdout",
     "output_type": "stream",
     "text": [
      "gra\n"
     ]
    }
   ],
   "source": [
    "print(word[ :3])"
   ]
  },
  {
   "cell_type": "markdown",
   "id": "presidential-rental",
   "metadata": {},
   "source": [
    "2.만약 오른쪽 범위를 비우면 문자열의 마지막 위치까지 문자열을 추출합니다."
   ]
  },
  {
   "cell_type": "code",
   "execution_count": 11,
   "id": "linear-woman",
   "metadata": {},
   "outputs": [
    {
     "name": "stdout",
     "output_type": "stream",
     "text": [
      "scratch\n"
     ]
    }
   ],
   "source": [
    "print(sent[2:len(sent)])"
   ]
  },
  {
   "cell_type": "code",
   "execution_count": 12,
   "id": "seeing-brass",
   "metadata": {},
   "outputs": [
    {
     "name": "stdout",
     "output_type": "stream",
     "text": [
      "scratch\n"
     ]
    }
   ],
   "source": [
    "print(sent[2: ])"
   ]
  },
  {
   "cell_type": "markdown",
   "id": "burning-mambo",
   "metadata": {},
   "source": [
    "3.양쪽을 모두 비우면 전체 문자열을 추출합니다."
   ]
  },
  {
   "cell_type": "code",
   "execution_count": 13,
   "id": "happy-feeding",
   "metadata": {},
   "outputs": [
    {
     "name": "stdout",
     "output_type": "stream",
     "text": [
      "a scratch\n"
     ]
    }
   ],
   "source": [
    "print(sent[ : ])"
   ]
  },
  {
   "cell_type": "markdown",
   "id": "distant-sixth",
   "metadata": {},
   "source": [
    "4.만약 문자열을 일정한 간격으로 건너뛰며 추출해야 한다면 콜론( : )을 하나 더 추가하여 추출 간격을 지정하면 됩니다. <tr>\n",
    "오른쪽은 전체 문자열을 추출하되 다음 추출 문자는 자신을 포함하여 거리가 2인 인덱스의 문자를 추출한 것입니다(1칸씩 건너뛰며 추출합니다.)"
   ]
  },
  {
   "cell_type": "code",
   "execution_count": 14,
   "id": "coastal-crime",
   "metadata": {},
   "outputs": [
    {
     "name": "stdout",
     "output_type": "stream",
     "text": [
      "asrth\n"
     ]
    }
   ],
   "source": [
    "print(sent[::2])"
   ]
  },
  {
   "cell_type": "markdown",
   "id": "warming-nurse",
   "metadata": {},
   "source": [
    "# 09 - 2 문자열 메서드\n",
    "\n",
    "지금까지 인덱스 슬라이싱으로 문자열을 추출하는 방법을 알아보았습니다. 그런데 문자열이 너무 길어서 내가 원하는 문자가 몇 번째 인덱스에 있는지 파악하기 어렵거나 문자열에 포함된 소문자를 모두 대문자로 바꾸고 싶다면 어떻게 해야 할까요? 이런 경우에는 문자열 메서드를 사용하면 됩니다. 자주 사용하는 문자열 메서드와 간단한 실습 코드를 다음표에 정리했습니다."
   ]
  },
  {
   "cell_type": "markdown",
   "id": "positive-updating",
   "metadata": {},
   "source": [
    "### 문자열 메서드\n",
    "\n",
    "메서드 | 설명\n",
    "---- | ----\n",
    "capitalize | 첫 문자를 대문자로 변홥합니다.\n",
    "count | 문자열의 개수를 반홥합니다.\n",
    "starswith | 문자열이 특정 문자로 시작하면 참이 됩니다.\n",
    "endswhit | 문자열이 특정 문자로 끝나면 참이 됩니다.\n",
    "find | 찾을 문자열의 첫 번째 인덱스를 반환합니다. 실패 시 -1을 반환합니다.\n",
    "index | find 메서드와 같은 역할을 수행하지만 실패시 ValueError를 반환합니다.\n",
    "isalpha | 모든 문자가 알파벳이면 참입니다.\n",
    "isdecimal | 모든 문자가 숫자면 참입니다.\n",
    "isalnum | 모든 문자가 알파벳이거나 숫자면 참입니다.\n",
    "lower | 모든 문자를 소문자로 변환합니다.\n",
    "upper | 모든 문자를 대문자로 변환합니다.\n",
    "replace | 문자열의 문자를 다른 문자로 교체합니다.\n",
    "strip | 문자열의 맨 앞과 맨 뒤에 있는 빈 칸을 제거합니다.\n",
    "split | 구분자를 지정하여 문자열을 나누고, 나눈 값들의 리스트를 반환합니다.\n",
    "partition | split 메서드와 비슷한 역할을 수행하지만 구분자도 반환합니다.\n",
    "center | 지정한 너비로 문자열을 늘이고 문자열을 가운데 정렬합니다.\n",
    "zfill | 문자열의 빈 칸을 '0'으로 채웁니다."
   ]
  },
  {
   "cell_type": "markdown",
   "id": "elementary-collins",
   "metadata": {},
   "source": [
    "### 파이썬 문자열 메서드 - 실습 코드\n",
    "\n",
    "실습코드 | 실행 결과\n",
    "---- | ----\n",
    "\"black Knight\".capitalize() | 'Black Knight'\n",
    "\"It's just a flesh wound!\".count('u') | 2\n",
    "\"Halt! Who goes there?\".startswiht('Halt') | True\n",
    "\"coconut\".endswhit('nut') | True\n",
    "\"It's just a flesh wound!\".find('u') | 7\n",
    "\"It's just a flesh wound!\".index('scratch') | valueError\n",
    "\"old woman\".isalpha() | False\n",
    "\"37\".isdecimal() | True\n",
    "\"I'm 37\".isalnum() | False\n",
    "\"Black Knight\".lower() | 'black knight'\n",
    "\"Black Knight\".upper() | 'BRACK KNIGHT'\n",
    "\"flesh wound!\".replace('flesh wound', 'scratch) | 'scratch'\n",
    "\"I'm not dead. \".strip() | \"i'm not dead\"\n",
    "\"NI! NI! NI! NI!\".split(sep=' ') | ['NI!', 'NI!', 'NI!', NI!']\n",
    "\"3,4.partition(',') | ('3',',','4')\n",
    "\"nine\".center(10) | ' nine '\n",
    "\"9\".zfill(with=5) | '00009'\n"
   ]
  },
  {
   "cell_type": "markdown",
   "id": "arabic-burns",
   "metadata": {},
   "source": [
    "### join splitlines, replace 메서드 실습하기\n",
    "\n",
    "#### join 메서드\n",
    "join 메서드는 문자열을 연결하여 새로운 문자열을 반환하는 메서드입니다. 다음은 분리된 좌표 데이터를 합친 것입니다. <tr>\n",
    "이때 join 메서드 앞에 문자(' ')를 지정하면 해당 문자를 단어 사이에 넣어 연결해 줍니다."
   ]
  },
  {
   "cell_type": "code",
   "execution_count": 15,
   "id": "sustained-cross",
   "metadata": {},
   "outputs": [
    {
     "name": "stdout",
     "output_type": "stream",
     "text": [
      "40 46' 52.837\" N 73 58' 26.302\" W\n"
     ]
    }
   ],
   "source": [
    "d1 = '40'\n",
    "m1 = \"46'\"\n",
    "s1 = '52.837\"'\n",
    "u1 = 'N'\n",
    "\n",
    "d2 = '73'\n",
    "m2 = \"58'\"\n",
    "s2 = '26.302\"'\n",
    "u2 = 'W'\n",
    "\n",
    "coords = ' '.join([d1,m1,s1,u1,d2,m2,s2,u2])\n",
    "print(coords)"
   ]
  },
  {
   "cell_type": "markdown",
   "id": "sporting-bishop",
   "metadata": {},
   "source": [
    "### 2.splitlines 메서드\n",
    "이번에는 splitlines 메서드에 대해 알아보자. splitlines 메서드는 여러 행을 가진 문자열을 분리한 다음 리스트로 반환합니다. <tr>\n",
    "multi_str에 저장된 문자열을 splitlines 메서드로 분리하면 다음과 같이 됩니다."
   ]
  },
  {
   "cell_type": "code",
   "execution_count": 16,
   "id": "golden-train",
   "metadata": {},
   "outputs": [
    {
     "name": "stdout",
     "output_type": "stream",
     "text": [
      "Guard: What? Ridden on a horse?\n",
      "King Arther: Yes!\n",
      "Guard: You're using coconuts!\n",
      "King Arthur: What?\n",
      "Guard: You've got ... coconut[s] and you're bangin' 'em together.\n",
      "\n"
     ]
    }
   ],
   "source": [
    "multi_str =\"\"\"Guard: What? Ridden on a horse?\n",
    "King Arther: Yes!\n",
    "Guard: You're using coconuts!\n",
    "King Arthur: What?\n",
    "Guard: You've got ... coconut[s] and you're bangin' 'em together.\n",
    "\"\"\"\n",
    "\n",
    "print(multi_str)"
   ]
  },
  {
   "cell_type": "code",
   "execution_count": 17,
   "id": "convertible-hello",
   "metadata": {},
   "outputs": [
    {
     "name": "stdout",
     "output_type": "stream",
     "text": [
      "['Guard: What? Ridden on a horse?', 'King Arther: Yes!', \"Guard: You're using coconuts!\", 'King Arthur: What?', \"Guard: You've got ... coconut[s] and you're bangin' 'em together.\"]\n"
     ]
    }
   ],
   "source": [
    "multi_str_split = multi_str.splitlines()\n",
    "print(multi_str_split)"
   ]
  },
  {
   "cell_type": "markdown",
   "id": "respective-barcelona",
   "metadata": {},
   "source": [
    "3.인덱스 슬라이싱을 응용하면 특정 문자열만 가져올 수도 있습니다. 다음은 Guard의 대사만 가져온 것입니다."
   ]
  },
  {
   "cell_type": "code",
   "execution_count": 18,
   "id": "leading-spokesman",
   "metadata": {},
   "outputs": [
    {
     "name": "stdout",
     "output_type": "stream",
     "text": [
      "['Guard: What? Ridden on a horse?', \"Guard: You're using coconuts!\", \"Guard: You've got ... coconut[s] and you're bangin' 'em together.\"]\n"
     ]
    }
   ],
   "source": [
    "guard = multi_str_split[::2]\n",
    "print(guard)"
   ]
  },
  {
   "cell_type": "markdown",
   "id": "trained-surge",
   "metadata": {},
   "source": [
    "#### 4. replace 메서드\n",
    "만약 Guard의 대사에서 'Guard:'라는 문자열을 빼고 싶다면 어떻게 해야 할까? 그럴 때는 문자열을 치환해 주는 replace 메서드를 사용하면 됩니다. 다음과 같이 \"Guard: \"를 \"\"로 치환하여 Guard: 를 없앴습니다."
   ]
  },
  {
   "cell_type": "code",
   "execution_count": 19,
   "id": "tracked-attack",
   "metadata": {},
   "outputs": [
    {
     "name": "stdout",
     "output_type": "stream",
     "text": [
      "['What? Ridden on a horse?', \"You're using coconuts!\", \"You've got ... coconut[s] and you're bangin' 'em together.\"]\n"
     ]
    }
   ],
   "source": [
    "guard = multi_str.replace(\"Guard: \", \"\").splitlines()[::2]\n",
    "print(guard)"
   ]
  },
  {
   "cell_type": "code",
   "execution_count": null,
   "id": "prompt-nowhere",
   "metadata": {},
   "outputs": [],
   "source": []
  }
 ],
 "metadata": {
  "kernelspec": {
   "display_name": "Python 3",
   "language": "python",
   "name": "python3"
  },
  "language_info": {
   "codemirror_mode": {
    "name": "ipython",
    "version": 3
   },
   "file_extension": ".py",
   "mimetype": "text/x-python",
   "name": "python",
   "nbconvert_exporter": "python",
   "pygments_lexer": "ipython3",
   "version": "3.6.9"
  }
 },
 "nbformat": 4,
 "nbformat_minor": 5
}
