{
 "cells": [
  {
   "cell_type": "markdown",
   "id": "funny-creativity",
   "metadata": {},
   "source": [
    "<img src=\"http://image.yes24.com/goods/64625506/800x0\" width=\"200\" height=\"200\"><br>"
   ]
  },
  {
   "cell_type": "markdown",
   "id": "desirable-vertex",
   "metadata": {},
   "source": [
    "# 10 - 1 간단한 함수 만들기\n",
    "\n",
    "### 제곱 함수와 n 제곱 함수 만들기\n",
    "1.제곱 함수는 다음과 같습니다."
   ]
  },
  {
   "cell_type": "code",
   "execution_count": 4,
   "id": "excellent-brick",
   "metadata": {},
   "outputs": [],
   "source": [
    "def my_sq(x):\n",
    "    return x ** 2"
   ]
  },
  {
   "cell_type": "markdown",
   "id": "interested-precipitation",
   "metadata": {},
   "source": [
    "2.n 제곱 함수 my_exp는 다음과 같습니다."
   ]
  },
  {
   "cell_type": "code",
   "execution_count": 5,
   "id": "tamil-explosion",
   "metadata": {},
   "outputs": [],
   "source": [
    "def my_exp(x, n):\n",
    "    return x ** n"
   ]
  },
  {
   "cell_type": "markdown",
   "id": "accompanied-receiver",
   "metadata": {},
   "source": [
    "3.과정 1~2에서 만든 함수를 사용해 보자."
   ]
  },
  {
   "cell_type": "code",
   "execution_count": 6,
   "id": "imperial-sterling",
   "metadata": {},
   "outputs": [
    {
     "name": "stdout",
     "output_type": "stream",
     "text": [
      "16\n"
     ]
    }
   ],
   "source": [
    "print(my_sq(4))"
   ]
  },
  {
   "cell_type": "code",
   "execution_count": 7,
   "id": "latter-index",
   "metadata": {},
   "outputs": [
    {
     "name": "stdout",
     "output_type": "stream",
     "text": [
      "16\n"
     ]
    }
   ],
   "source": [
    "print(my_exp(2, 4))"
   ]
  },
  {
   "cell_type": "markdown",
   "id": "loose-craft",
   "metadata": {},
   "source": [
    "# 10 - 2 apply 메서드 사용하기 - 기초\n",
    "\n",
    "apply 메서드로 브로드캐스팅한 결과가 올바른 값인지 확인하기 위해 시리즈,  데이터프레임의 기초 연산 결과와 비교하며 진행하겠습니다.\n",
    "\n",
    "### 시리즈와 데이터 프레임에 apply 메서드 사용하기 \n",
    "\n",
    "#### 1.시리즈와 apply 메서드\n",
    "먼저 실습에 사용할 데이터프레임을 준비합니다."
   ]
  },
  {
   "cell_type": "code",
   "execution_count": 8,
   "id": "desperate-nature",
   "metadata": {},
   "outputs": [
    {
     "name": "stdout",
     "output_type": "stream",
     "text": [
      "    a   b\n",
      "0  10  20\n",
      "1  20  30\n",
      "2  30  40\n"
     ]
    }
   ],
   "source": [
    "import pandas as pd\n",
    "\n",
    "df = pd.DataFrame({'a': [10, 20, 30], 'b': [20, 30, 40]})\n",
    "print(df)"
   ]
  },
  {
   "cell_type": "markdown",
   "id": "useful-vault",
   "metadata": {},
   "source": [
    "2.다음은 앞에서 만든 제곱 함수(my_exp)를 사용하기 전에 a 열을 제곱하여 얻은 결과 입니다. 이 결괏갑과 apply 메서드를 적용한 결괏값을 비교해 보겠습니다."
   ]
  },
  {
   "cell_type": "code",
   "execution_count": 9,
   "id": "connected-major",
   "metadata": {},
   "outputs": [
    {
     "name": "stdout",
     "output_type": "stream",
     "text": [
      "0    100\n",
      "1    400\n",
      "2    900\n",
      "Name: a, dtype: int64\n"
     ]
    }
   ],
   "source": [
    "print(df['a'] ** 2)"
   ]
  },
  {
   "cell_type": "markdown",
   "id": "seven-conviction",
   "metadata": {},
   "source": [
    "3.다음은 apply 메서드에 제곱 함수의 이름(my_sq)을 전달하여 시리즈의 모든 데이터에 제곱 함수를 적용한 것입니다. 이때 apply 메서드에 전달하는 함수(my_sq)가 1개의 인자를 받도록 구성되어 있다면 인잣값을 생략해야 합니다. 그러면 2개의 인자를 전달해야 할 경우에는 어떻게 해야 할까?"
   ]
  },
  {
   "cell_type": "code",
   "execution_count": 10,
   "id": "decimal-british",
   "metadata": {},
   "outputs": [
    {
     "name": "stdout",
     "output_type": "stream",
     "text": [
      "0    100\n",
      "1    400\n",
      "2    900\n",
      "Name: a, dtype: int64\n"
     ]
    }
   ],
   "source": [
    "sq = df['a'].apply(my_sq)\n",
    "print(sq)"
   ]
  },
  {
   "cell_type": "markdown",
   "id": "organized-watson",
   "metadata": {},
   "source": [
    "4.이제 2개의 인자를 전달받아야 하는 n 제곱 함수(my_exp)와 apply 메서드를 함께 사용해 보겠습니다. apply 메서드의 첫 번째 인자에는 n 제곱 함수의 이름(my_exp)을 전달하고 두 번째 인자에는 n 제곱 함수의 두 번째 인자(n)를 전달합니다."
   ]
  },
  {
   "cell_type": "code",
   "execution_count": 11,
   "id": "black-college",
   "metadata": {},
   "outputs": [
    {
     "name": "stdout",
     "output_type": "stream",
     "text": [
      "0    100\n",
      "1    400\n",
      "2    900\n",
      "Name: a, dtype: int64\n"
     ]
    }
   ],
   "source": [
    "ex = df['a'].apply(my_exp, n=2)\n",
    "print(ex)"
   ]
  },
  {
   "cell_type": "code",
   "execution_count": 12,
   "id": "british-brush",
   "metadata": {},
   "outputs": [
    {
     "name": "stdout",
     "output_type": "stream",
     "text": [
      "0     1000\n",
      "1     8000\n",
      "2    27000\n",
      "Name: a, dtype: int64\n"
     ]
    }
   ],
   "source": [
    "ex = df['a'].apply(my_exp, n=3)\n",
    "print(ex)"
   ]
  },
  {
   "cell_type": "markdown",
   "id": "large-colonial",
   "metadata": {},
   "source": [
    "5.데이터프레임과 apply 메서드\n",
    "이번에는 시리즈가 아니라 데이터프레임에 apply 메서드를 사용하는 방법을 알아보겠습니다. 먼저 데이터프레임을 다음과 같이 준비합니다."
   ]
  },
  {
   "cell_type": "code",
   "execution_count": 13,
   "id": "amended-american",
   "metadata": {},
   "outputs": [
    {
     "name": "stdout",
     "output_type": "stream",
     "text": [
      "    a   b\n",
      "0  10  20\n",
      "1  20  30\n",
      "2  30  40\n"
     ]
    }
   ],
   "source": [
    "df = pd.DataFrame({'a': [10, 20, 30], 'b': [20, 30, 40]})\n",
    "print(df)"
   ]
  },
  {
   "cell_type": "markdown",
   "id": "informed-fiber",
   "metadata": {},
   "source": [
    "6.새로운 함수를 만들어보겠습니다. 이번에 사용할 함수는 1개의 값을 전달받아 출력하는 함수입니다."
   ]
  },
  {
   "cell_type": "code",
   "execution_count": 14,
   "id": "neutral-moisture",
   "metadata": {},
   "outputs": [],
   "source": [
    "def print_me(x):\n",
    "    print(x)"
   ]
  },
  {
   "cell_type": "markdown",
   "id": "vocal-locator",
   "metadata": {},
   "source": [
    "7.이번에는 데이터프레임에 함수를 적용해야 하기 때문에 함수를 열 방향으로 적용할지 행 방향으로 적용할지 정해야 합니다. axis 인잣값을 0이나 1로 지정하면 함수를 열 또는 행 방향으로 적용할 수 있습니다."
   ]
  },
  {
   "cell_type": "code",
   "execution_count": 15,
   "id": "demographic-huntington",
   "metadata": {},
   "outputs": [
    {
     "name": "stdout",
     "output_type": "stream",
     "text": [
      "0    10\n",
      "1    20\n",
      "2    30\n",
      "Name: a, dtype: int64\n",
      "0    20\n",
      "1    30\n",
      "2    40\n",
      "Name: b, dtype: int64\n",
      "a    None\n",
      "b    None\n",
      "dtype: object\n"
     ]
    }
   ],
   "source": [
    "print(df.apply(print_me, axis=0))"
   ]
  },
  {
   "cell_type": "code",
   "execution_count": 16,
   "id": "czech-rogers",
   "metadata": {},
   "outputs": [
    {
     "name": "stdout",
     "output_type": "stream",
     "text": [
      "0    10\n",
      "1    20\n",
      "2    30\n",
      "Name: a, dtype: int64\n"
     ]
    }
   ],
   "source": [
    "print(df['a'])"
   ]
  },
  {
   "cell_type": "code",
   "execution_count": 17,
   "id": "tired-clinton",
   "metadata": {},
   "outputs": [
    {
     "name": "stdout",
     "output_type": "stream",
     "text": [
      "0    20\n",
      "1    30\n",
      "2    40\n",
      "Name: b, dtype: int64\n"
     ]
    }
   ],
   "source": [
    "print(df['b'])"
   ]
  },
  {
   "cell_type": "markdown",
   "id": "established-minnesota",
   "metadata": {},
   "source": [
    "8.이번에는 3개의 인자를 입력받아 평균을 계산하는 함수를 사용해 보겠습니다."
   ]
  },
  {
   "cell_type": "code",
   "execution_count": 18,
   "id": "acceptable-character",
   "metadata": {},
   "outputs": [],
   "source": [
    "def avg_3(x, y, z):\n",
    "    return (x + y + z) / 3"
   ]
  },
  {
   "cell_type": "markdown",
   "id": "dated-passion",
   "metadata": {},
   "source": [
    "9.그런데 avg_3 함수를 apply 메서드에 전달하면 'avg_3 함수는 3개의 인잣값을 필요로 하는 함수인데 1개의 인잣값만 입력받았다'는 오류 메시지가 출력됩니다. 즉, avg_3함수에 열 단위 데이터(df['a'] 또는 df['b'])가 전달되었고 이 값을 avg_3 함수에서 1개의 인자로 인식한 것입니다. 따라서 avg_3 함수가 열 단위로 처리할 수 있도록 수정해야 합니다."
   ]
  },
  {
   "cell_type": "code",
   "execution_count": 19,
   "id": "surgical-generator",
   "metadata": {},
   "outputs": [
    {
     "ename": "TypeError",
     "evalue": "avg_3() missing 2 required positional arguments: 'y' and 'z'",
     "output_type": "error",
     "traceback": [
      "\u001b[0;31m---------------------------------------------------------------------------\u001b[0m",
      "\u001b[0;31mTypeError\u001b[0m                                 Traceback (most recent call last)",
      "\u001b[0;32m<ipython-input-19-60357ad98728>\u001b[0m in \u001b[0;36m<module>\u001b[0;34m\u001b[0m\n\u001b[0;32m----> 1\u001b[0;31m \u001b[0mprint\u001b[0m\u001b[0;34m(\u001b[0m\u001b[0mdf\u001b[0m\u001b[0;34m.\u001b[0m\u001b[0mapply\u001b[0m\u001b[0;34m(\u001b[0m\u001b[0mavg_3\u001b[0m\u001b[0;34m)\u001b[0m\u001b[0;34m)\u001b[0m\u001b[0;34m\u001b[0m\u001b[0;34m\u001b[0m\u001b[0m\n\u001b[0m",
      "\u001b[0;32m~/.local/lib/python3.6/site-packages/pandas/core/frame.py\u001b[0m in \u001b[0;36mapply\u001b[0;34m(self, func, axis, raw, result_type, args, **kwds)\u001b[0m\n\u001b[1;32m   7550\u001b[0m             \u001b[0mkwds\u001b[0m\u001b[0;34m=\u001b[0m\u001b[0mkwds\u001b[0m\u001b[0;34m,\u001b[0m\u001b[0;34m\u001b[0m\u001b[0;34m\u001b[0m\u001b[0m\n\u001b[1;32m   7551\u001b[0m         )\n\u001b[0;32m-> 7552\u001b[0;31m         \u001b[0;32mreturn\u001b[0m \u001b[0mop\u001b[0m\u001b[0;34m.\u001b[0m\u001b[0mget_result\u001b[0m\u001b[0;34m(\u001b[0m\u001b[0;34m)\u001b[0m\u001b[0;34m\u001b[0m\u001b[0;34m\u001b[0m\u001b[0m\n\u001b[0m\u001b[1;32m   7553\u001b[0m \u001b[0;34m\u001b[0m\u001b[0m\n\u001b[1;32m   7554\u001b[0m     \u001b[0;32mdef\u001b[0m \u001b[0mapplymap\u001b[0m\u001b[0;34m(\u001b[0m\u001b[0mself\u001b[0m\u001b[0;34m,\u001b[0m \u001b[0mfunc\u001b[0m\u001b[0;34m)\u001b[0m \u001b[0;34m->\u001b[0m \u001b[0;34m\"DataFrame\"\u001b[0m\u001b[0;34m:\u001b[0m\u001b[0;34m\u001b[0m\u001b[0;34m\u001b[0m\u001b[0m\n",
      "\u001b[0;32m~/.local/lib/python3.6/site-packages/pandas/core/apply.py\u001b[0m in \u001b[0;36mget_result\u001b[0;34m(self)\u001b[0m\n\u001b[1;32m    183\u001b[0m             \u001b[0;32mreturn\u001b[0m \u001b[0mself\u001b[0m\u001b[0;34m.\u001b[0m\u001b[0mapply_raw\u001b[0m\u001b[0;34m(\u001b[0m\u001b[0;34m)\u001b[0m\u001b[0;34m\u001b[0m\u001b[0;34m\u001b[0m\u001b[0m\n\u001b[1;32m    184\u001b[0m \u001b[0;34m\u001b[0m\u001b[0m\n\u001b[0;32m--> 185\u001b[0;31m         \u001b[0;32mreturn\u001b[0m \u001b[0mself\u001b[0m\u001b[0;34m.\u001b[0m\u001b[0mapply_standard\u001b[0m\u001b[0;34m(\u001b[0m\u001b[0;34m)\u001b[0m\u001b[0;34m\u001b[0m\u001b[0;34m\u001b[0m\u001b[0m\n\u001b[0m\u001b[1;32m    186\u001b[0m \u001b[0;34m\u001b[0m\u001b[0m\n\u001b[1;32m    187\u001b[0m     \u001b[0;32mdef\u001b[0m \u001b[0mapply_empty_result\u001b[0m\u001b[0;34m(\u001b[0m\u001b[0mself\u001b[0m\u001b[0;34m)\u001b[0m\u001b[0;34m:\u001b[0m\u001b[0;34m\u001b[0m\u001b[0;34m\u001b[0m\u001b[0m\n",
      "\u001b[0;32m~/.local/lib/python3.6/site-packages/pandas/core/apply.py\u001b[0m in \u001b[0;36mapply_standard\u001b[0;34m(self)\u001b[0m\n\u001b[1;32m    274\u001b[0m \u001b[0;34m\u001b[0m\u001b[0m\n\u001b[1;32m    275\u001b[0m     \u001b[0;32mdef\u001b[0m \u001b[0mapply_standard\u001b[0m\u001b[0;34m(\u001b[0m\u001b[0mself\u001b[0m\u001b[0;34m)\u001b[0m\u001b[0;34m:\u001b[0m\u001b[0;34m\u001b[0m\u001b[0;34m\u001b[0m\u001b[0m\n\u001b[0;32m--> 276\u001b[0;31m         \u001b[0mresults\u001b[0m\u001b[0;34m,\u001b[0m \u001b[0mres_index\u001b[0m \u001b[0;34m=\u001b[0m \u001b[0mself\u001b[0m\u001b[0;34m.\u001b[0m\u001b[0mapply_series_generator\u001b[0m\u001b[0;34m(\u001b[0m\u001b[0;34m)\u001b[0m\u001b[0;34m\u001b[0m\u001b[0;34m\u001b[0m\u001b[0m\n\u001b[0m\u001b[1;32m    277\u001b[0m \u001b[0;34m\u001b[0m\u001b[0m\n\u001b[1;32m    278\u001b[0m         \u001b[0;31m# wrap results\u001b[0m\u001b[0;34m\u001b[0m\u001b[0;34m\u001b[0m\u001b[0;34m\u001b[0m\u001b[0m\n",
      "\u001b[0;32m~/.local/lib/python3.6/site-packages/pandas/core/apply.py\u001b[0m in \u001b[0;36mapply_series_generator\u001b[0;34m(self)\u001b[0m\n\u001b[1;32m    303\u001b[0m                 \u001b[0;32mfor\u001b[0m \u001b[0mi\u001b[0m\u001b[0;34m,\u001b[0m \u001b[0mv\u001b[0m \u001b[0;32min\u001b[0m \u001b[0menumerate\u001b[0m\u001b[0;34m(\u001b[0m\u001b[0mseries_gen\u001b[0m\u001b[0;34m)\u001b[0m\u001b[0;34m:\u001b[0m\u001b[0;34m\u001b[0m\u001b[0;34m\u001b[0m\u001b[0m\n\u001b[1;32m    304\u001b[0m                     \u001b[0;31m# ignore SettingWithCopy here in case the user mutates\u001b[0m\u001b[0;34m\u001b[0m\u001b[0;34m\u001b[0m\u001b[0;34m\u001b[0m\u001b[0m\n\u001b[0;32m--> 305\u001b[0;31m                     \u001b[0mresults\u001b[0m\u001b[0;34m[\u001b[0m\u001b[0mi\u001b[0m\u001b[0;34m]\u001b[0m \u001b[0;34m=\u001b[0m \u001b[0mself\u001b[0m\u001b[0;34m.\u001b[0m\u001b[0mf\u001b[0m\u001b[0;34m(\u001b[0m\u001b[0mv\u001b[0m\u001b[0;34m)\u001b[0m\u001b[0;34m\u001b[0m\u001b[0;34m\u001b[0m\u001b[0m\n\u001b[0m\u001b[1;32m    306\u001b[0m                     \u001b[0;32mif\u001b[0m \u001b[0misinstance\u001b[0m\u001b[0;34m(\u001b[0m\u001b[0mresults\u001b[0m\u001b[0;34m[\u001b[0m\u001b[0mi\u001b[0m\u001b[0;34m]\u001b[0m\u001b[0;34m,\u001b[0m \u001b[0mABCSeries\u001b[0m\u001b[0;34m)\u001b[0m\u001b[0;34m:\u001b[0m\u001b[0;34m\u001b[0m\u001b[0;34m\u001b[0m\u001b[0m\n\u001b[1;32m    307\u001b[0m                         \u001b[0;31m# If we have a view on v, we need to make a copy because\u001b[0m\u001b[0;34m\u001b[0m\u001b[0;34m\u001b[0m\u001b[0;34m\u001b[0m\u001b[0m\n",
      "\u001b[0;31mTypeError\u001b[0m: avg_3() missing 2 required positional arguments: 'y' and 'z'"
     ]
    }
   ],
   "source": [
    "print(df.apply(avg_3))"
   ]
  },
  {
   "cell_type": "markdown",
   "id": "frank-announcement",
   "metadata": {},
   "source": [
    "10.다음은 avg_3 함수가 열 단위로 데이터를 처리할 수 있도록 개선한 avg_3_apply 함수입니다. 개선한 함수를 apply 메서드에 적용하면 잘 동작하는 것을 알 수 있습니다."
   ]
  },
  {
   "cell_type": "code",
   "execution_count": 20,
   "id": "public-think",
   "metadata": {},
   "outputs": [
    {
     "name": "stdout",
     "output_type": "stream",
     "text": [
      "a    20.0\n",
      "b    30.0\n",
      "dtype: float64\n"
     ]
    }
   ],
   "source": [
    "def avg_3_apply(col):\n",
    "    x = col[0]\n",
    "    y = col[1]\n",
    "    z = col[2]\n",
    "    return (x + y + z) / 3\n",
    "\n",
    "print(df.apply(avg_3_apply))"
   ]
  },
  {
   "cell_type": "markdown",
   "id": "proper-alert",
   "metadata": {},
   "source": [
    "11.앞의 과정에서는 데이터프레임의 행 개수가 3이라는 것을 알고 있다는 전제하에 avg_3_apply 함수를 작성했습니다. 하지만 일반적으로는 for문을 이용하여 다음과 같이 작성합니다."
   ]
  },
  {
   "cell_type": "code",
   "execution_count": 21,
   "id": "disturbed-conclusion",
   "metadata": {},
   "outputs": [],
   "source": [
    "def avg_3_apply(col):\n",
    "    sum = 0\n",
    "    for item in col:\n",
    "        sum += item\n",
    "    return sum / df.shape[0]"
   ]
  },
  {
   "cell_type": "markdown",
   "id": "functional-murder",
   "metadata": {},
   "source": [
    "12.과정 11의 함수를 응용하면 행 방향으로 데이터를 처리하는 함수도 만들 수 있습니다. 마지막 return문의 df.shape{0}을 df.shape{1}로 바꾸면 됩니다."
   ]
  },
  {
   "cell_type": "code",
   "execution_count": 22,
   "id": "general-milwaukee",
   "metadata": {},
   "outputs": [
    {
     "name": "stdout",
     "output_type": "stream",
     "text": [
      "0    15.0\n",
      "1    25.0\n",
      "2    35.0\n",
      "dtype: float64\n"
     ]
    }
   ],
   "source": [
    "def avg_2_apply(row):\n",
    "    sum = 0\n",
    "    for item in row:\n",
    "        sum += item\n",
    "    return sum / df.shape[1]\n",
    "\n",
    "print(df.apply(avg_2_apply, axis=1))"
   ]
  },
  {
   "cell_type": "markdown",
   "id": "daily-support",
   "metadata": {},
   "source": [
    "# 10 - 3 apply 메서드 사용하기 - 고급\n",
    "\n",
    "이번에는 조금 더 큰 데이터를 사용해 보겠습니다. 이번에 사용할 데이터는 seaborn 라이브러리의 titanic 데이터 집합입니다.\n",
    "\n",
    "### 데이터프레임의 누락값을 처리한 다음 apply 메서드 사용하기\n",
    "\n",
    "\n",
    "#### 1.데이터프레임의 누락값 처리하기 - 열 방향\n",
    "이번에도  seaborn 라이브러리에 있는 데이터를 사용합니다. seaborn 라이브러리에 있는 titanic 데이터 집합을 불러와 변수 titanic에 저장합니다."
   ]
  },
  {
   "cell_type": "code",
   "execution_count": 23,
   "id": "satisfactory-massage",
   "metadata": {},
   "outputs": [],
   "source": [
    "import seaborn as sns\n",
    "\n",
    "titanic = sns.load_dataset(\"titanic\")"
   ]
  },
  {
   "cell_type": "markdown",
   "id": "dangerous-reform",
   "metadata": {},
   "source": [
    "2.다음은 titanic 데이터프레임의 데이터 정보를 출력한 것입니다."
   ]
  },
  {
   "cell_type": "code",
   "execution_count": 24,
   "id": "independent-relaxation",
   "metadata": {},
   "outputs": [
    {
     "name": "stdout",
     "output_type": "stream",
     "text": [
      "<class 'pandas.core.frame.DataFrame'>\n",
      "RangeIndex: 891 entries, 0 to 890\n",
      "Data columns (total 15 columns):\n",
      " #   Column       Non-Null Count  Dtype   \n",
      "---  ------       --------------  -----   \n",
      " 0   survived     891 non-null    int64   \n",
      " 1   pclass       891 non-null    int64   \n",
      " 2   sex          891 non-null    object  \n",
      " 3   age          714 non-null    float64 \n",
      " 4   sibsp        891 non-null    int64   \n",
      " 5   parch        891 non-null    int64   \n",
      " 6   fare         891 non-null    float64 \n",
      " 7   embarked     889 non-null    object  \n",
      " 8   class        891 non-null    category\n",
      " 9   who          891 non-null    object  \n",
      " 10  adult_male   891 non-null    bool    \n",
      " 11  deck         203 non-null    category\n",
      " 12  embark_town  889 non-null    object  \n",
      " 13  alive        891 non-null    object  \n",
      " 14  alone        891 non-null    bool    \n",
      "dtypes: bool(2), category(2), float64(2), int64(4), object(5)\n",
      "memory usage: 80.6+ KB\n",
      "None\n"
     ]
    }
   ],
   "source": [
    "print(titanic.info())"
   ]
  },
  {
   "cell_type": "markdown",
   "id": "motivated-slovenia",
   "metadata": {},
   "source": [
    "3.다음은 누락값의 개수를 반환하는 count_missing 함수입니다. 판다스의 isnull 메서드에 데이터프레임을 전달하면 누락값의 유무에 따라 True, False를 적용한 데이터프레임이 만들어집니다. 이 값을 넘파이의 sum 메서드에 전달하면 누락값의 개수를 구할 수 있습니다."
   ]
  },
  {
   "cell_type": "code",
   "execution_count": 25,
   "id": "residential-accommodation",
   "metadata": {},
   "outputs": [],
   "source": [
    "import numpy as np\n",
    "\n",
    "def count_missing(vec):\n",
    "    null_vec = pd.isnull(vec)\n",
    "    null_count = np.sum(null_vec)\n",
    "    return null_count"
   ]
  },
  {
   "cell_type": "markdown",
   "id": "alleged-webmaster",
   "metadata": {},
   "source": [
    "4.다음은 apply 메서드에 count_missing 함수를 전달하여 얻은 결과입니다."
   ]
  },
  {
   "cell_type": "code",
   "execution_count": 26,
   "id": "encouraging-price",
   "metadata": {},
   "outputs": [
    {
     "name": "stdout",
     "output_type": "stream",
     "text": [
      "survived         0\n",
      "pclass           0\n",
      "sex              0\n",
      "age            177\n",
      "sibsp            0\n",
      "parch            0\n",
      "fare             0\n",
      "embarked         2\n",
      "class            0\n",
      "who              0\n",
      "adult_male       0\n",
      "deck           688\n",
      "embark_town      2\n",
      "alive            0\n",
      "alone            0\n",
      "dtype: int64\n"
     ]
    }
   ],
   "source": [
    "cmis_col = titanic.apply(count_missing)\n",
    "print(cmis_col)"
   ]
  },
  {
   "cell_type": "markdown",
   "id": "prepared-utilization",
   "metadata": {},
   "source": [
    "5.다음은 누락값의 비율을 계산하는 prop_missing 함수입니다. 과정 3에서 작성한 count_missing 함수를 이용해 데이터프레임의 누락값 개수를 구하고 size 속성을 이용해 데이터프레임의 전체 데이터 수를 구하여 나누면 누락값의 비율을 계산할 수 있습니다."
   ]
  },
  {
   "cell_type": "code",
   "execution_count": 27,
   "id": "sunset-singing",
   "metadata": {},
   "outputs": [],
   "source": [
    "def prop_missing(vec):\n",
    "    num = count_missing(vec)\n",
    "    dem = vec.size\n",
    "    return num / dem"
   ]
  },
  {
   "cell_type": "markdown",
   "id": "entertaining-productivity",
   "metadata": {},
   "source": [
    "6.다음은 apply 메서드에 prop_missing 함수를 적용한 것입니다."
   ]
  },
  {
   "cell_type": "code",
   "execution_count": 28,
   "id": "conventional-compound",
   "metadata": {},
   "outputs": [
    {
     "name": "stdout",
     "output_type": "stream",
     "text": [
      "survived       0.000000\n",
      "pclass         0.000000\n",
      "sex            0.000000\n",
      "age            0.198653\n",
      "sibsp          0.000000\n",
      "parch          0.000000\n",
      "fare           0.000000\n",
      "embarked       0.002245\n",
      "class          0.000000\n",
      "who            0.000000\n",
      "adult_male     0.000000\n",
      "deck           0.772166\n",
      "embark_town    0.002245\n",
      "alive          0.000000\n",
      "alone          0.000000\n",
      "dtype: float64\n"
     ]
    }
   ],
   "source": [
    "pmis_col = titanic.apply(prop_missing)\n",
    "print(pmis_col)"
   ]
  },
  {
   "cell_type": "markdown",
   "id": "catholic-population",
   "metadata": {},
   "source": [
    "7.과정 5에서 작정한 prop_missing 함수를 이용하면 누락값이 아닌 데이터의 비율도 구할 수 있습니다. 전체 비율(1)에서 누락값의 비율을 빼면 됩니다. 과정 5~6과 같은 방법으로 apply 메서드에 prop_complete 함수를 전달하여 결과를 확인해 보자."
   ]
  },
  {
   "cell_type": "code",
   "execution_count": 29,
   "id": "corresponding-windsor",
   "metadata": {},
   "outputs": [],
   "source": [
    "def prop_complete(vec):\n",
    "    return 1 - prop_missing(vec)"
   ]
  },
  {
   "cell_type": "markdown",
   "id": "wicked-stylus",
   "metadata": {},
   "source": [
    "#### 8.데이터프레임의 누락값 처리하기 - 행 방향\n",
    "이번에는 행 방향으로 데이터를 처리해 보겠습니다. 다음은 axis를 1로 설정하여 앞에서 만든 count_missing, prop_missing, prop_complete 함수를 행 방향으로 적용하여 실행한 것입니다. 각 행의 누락값과 누락값의 비율, 누락값이 아닌 값의 비율을 잘 계산하고 있다는 것을 알 수 있습니다."
   ]
  },
  {
   "cell_type": "code",
   "execution_count": 30,
   "id": "accessible-translator",
   "metadata": {},
   "outputs": [
    {
     "name": "stdout",
     "output_type": "stream",
     "text": [
      "0    1\n",
      "1    0\n",
      "2    1\n",
      "3    0\n",
      "4    1\n",
      "dtype: int64\n"
     ]
    }
   ],
   "source": [
    "cmis_row = titanic.apply(count_missing, axis=1)\n",
    "pmis_row = titanic.apply(prop_missing, axis=1)\n",
    "pcom_row = titanic.apply(prop_complete, axis=1)\n",
    "\n",
    "print(cmis_row.head())"
   ]
  },
  {
   "cell_type": "code",
   "execution_count": 31,
   "id": "greater-belfast",
   "metadata": {},
   "outputs": [
    {
     "name": "stdout",
     "output_type": "stream",
     "text": [
      "0    0.066667\n",
      "1    0.000000\n",
      "2    0.066667\n",
      "3    0.000000\n",
      "4    0.066667\n",
      "dtype: float64\n"
     ]
    }
   ],
   "source": [
    "print(pmis_row.head())"
   ]
  },
  {
   "cell_type": "code",
   "execution_count": 32,
   "id": "short-genome",
   "metadata": {},
   "outputs": [
    {
     "name": "stdout",
     "output_type": "stream",
     "text": [
      "0    0.933333\n",
      "1    1.000000\n",
      "2    0.933333\n",
      "3    1.000000\n",
      "4    0.933333\n",
      "dtype: float64\n"
     ]
    }
   ],
   "source": [
    "print(pcom_row.head())"
   ]
  },
  {
   "cell_type": "markdown",
   "id": "editorial-plymouth",
   "metadata": {},
   "source": [
    "9.다음은 누락값의 개수를 구하여 titanic 데이터프레임에 추가한 것입니다. 데이터프레임에 num_missing 열이 추가된 것을 알 수 있습니다."
   ]
  },
  {
   "cell_type": "code",
   "execution_count": 33,
   "id": "racial-salon",
   "metadata": {},
   "outputs": [
    {
     "name": "stdout",
     "output_type": "stream",
     "text": [
      "   survived  pclass     sex   age  sibsp  parch     fare embarked  class  \\\n",
      "0         0       3    male  22.0      1      0   7.2500        S  Third   \n",
      "1         1       1  female  38.0      1      0  71.2833        C  First   \n",
      "2         1       3  female  26.0      0      0   7.9250        S  Third   \n",
      "3         1       1  female  35.0      1      0  53.1000        S  First   \n",
      "4         0       3    male  35.0      0      0   8.0500        S  Third   \n",
      "\n",
      "     who  adult_male deck  embark_town alive  alone  num_missing  \n",
      "0    man        True  NaN  Southampton    no  False            1  \n",
      "1  woman       False    C    Cherbourg   yes  False            0  \n",
      "2  woman       False  NaN  Southampton   yes   True            1  \n",
      "3  woman       False    C  Southampton   yes  False            0  \n",
      "4    man        True  NaN  Southampton    no   True            1  \n"
     ]
    }
   ],
   "source": [
    "titanic['num_missing'] = titanic.apply(count_missing, axis=1)\n",
    "\n",
    "print(titanic.head())"
   ]
  },
  {
   "cell_type": "markdown",
   "id": "perfect-narrow",
   "metadata": {},
   "source": [
    "10.과정 9에서 누락값이 있는 데이터를 데이터프레임에 추가했기 때문에 누락값이 있는 데이터만 따로 모아서 볼 수도 있습니다. 다음은 누락값이 2개 이상인 데이터를 추출한 것입니다."
   ]
  },
  {
   "cell_type": "code",
   "execution_count": 34,
   "id": "lightweight-situation",
   "metadata": {},
   "outputs": [
    {
     "name": "stdout",
     "output_type": "stream",
     "text": [
      "     survived  pclass     sex   age  sibsp  parch     fare embarked  class  \\\n",
      "593         0       3  female   NaN      0      2   7.7500        Q  Third   \n",
      "578         0       3  female   NaN      1      0  14.4583        C  Third   \n",
      "274         1       3  female   NaN      0      0   7.7500        Q  Third   \n",
      "29          0       3    male   NaN      0      0   7.8958        S  Third   \n",
      "878         0       3    male   NaN      0      0   7.8958        S  Third   \n",
      "61          1       1  female  38.0      0      0  80.0000      NaN  First   \n",
      "859         0       3    male   NaN      0      0   7.2292        C  Third   \n",
      "201         0       3    male   NaN      8      2  69.5500        S  Third   \n",
      "235         0       3  female   NaN      0      0   7.5500        S  Third   \n",
      "792         0       3  female   NaN      8      2  69.5500        S  Third   \n",
      "\n",
      "       who  adult_male deck  embark_town alive  alone  num_missing  \n",
      "593  woman       False  NaN   Queenstown    no  False            2  \n",
      "578  woman       False  NaN    Cherbourg    no  False            2  \n",
      "274  woman       False  NaN   Queenstown   yes   True            2  \n",
      "29     man        True  NaN  Southampton    no   True            2  \n",
      "878    man        True  NaN  Southampton    no   True            2  \n",
      "61   woman       False    B          NaN   yes   True            2  \n",
      "859    man        True  NaN    Cherbourg    no   True            2  \n",
      "201    man        True  NaN  Southampton    no  False            2  \n",
      "235  woman       False  NaN  Southampton    no   True            2  \n",
      "792  woman       False  NaN  Southampton    no  False            2  \n"
     ]
    }
   ],
   "source": [
    "print(titanic.loc[titanic.num_missing > 1, :].sample(10))"
   ]
  },
  {
   "cell_type": "markdown",
   "id": "prime-scroll",
   "metadata": {},
   "source": [
    "### 마무리하며\n",
    "여러가지 실습을 통해 apply 메서드가 왜 데이터 분석에 유용한지 알아보았습니다. <tr>\n",
    "    내장 함수의 기능도 훌륭하지만 때로는 나만의 함수를 만들어 데이터 처리에 사용하는 것이 더 편리할 수도 있기 때문에 apply 메서드의 사용법은 반드시 알아두어야 한다."
   ]
  },
  {
   "cell_type": "code",
   "execution_count": null,
   "id": "interracial-provincial",
   "metadata": {},
   "outputs": [],
   "source": []
  }
 ],
 "metadata": {
  "kernelspec": {
   "display_name": "Python 3",
   "language": "python",
   "name": "python3"
  },
  "language_info": {
   "codemirror_mode": {
    "name": "ipython",
    "version": 3
   },
   "file_extension": ".py",
   "mimetype": "text/x-python",
   "name": "python",
   "nbconvert_exporter": "python",
   "pygments_lexer": "ipython3",
   "version": "3.6.9"
  }
 },
 "nbformat": 4,
 "nbformat_minor": 5
}
