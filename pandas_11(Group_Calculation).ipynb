{
 "cells": [
  {
   "cell_type": "markdown",
   "id": "unlikely-indonesia",
   "metadata": {},
   "source": [
    "<img src=\"http://image.yes24.com/goods/64625506/800x0\" width=\"200\" height=\"200\"><br>"
   ]
  },
  {
   "cell_type": "markdown",
   "id": "polish-circular",
   "metadata": {},
   "source": [
    "# 11 - 1 데이터 집계\n",
    "\n",
    "### groupby 메서드로 평균값 구하기\n",
    "1.먼저 갭마인더 데이터 집합을 불러옵니다."
   ]
  },
  {
   "cell_type": "code",
   "execution_count": 1,
   "id": "recorded-suite",
   "metadata": {},
   "outputs": [],
   "source": [
    "import pandas as pd\n",
    "df = pd.read_csv('data/gapminder.tsv', sep='\\t')"
   ]
  },
  {
   "cell_type": "markdown",
   "id": "right-framing",
   "metadata": {},
   "source": [
    "2.다음은 year 열을 기준으로 데이터를 그룹화한 다음 lifeExp 열의 평균을 구한 것입니다."
   ]
  },
  {
   "cell_type": "code",
   "execution_count": 2,
   "id": "revised-fishing",
   "metadata": {},
   "outputs": [
    {
     "name": "stdout",
     "output_type": "stream",
     "text": [
      "year\n",
      "1952    49.057620\n",
      "1957    51.507401\n",
      "1962    53.609249\n",
      "1967    55.678290\n",
      "1972    57.647386\n",
      "1977    59.570157\n",
      "1982    61.533197\n",
      "1987    63.212613\n",
      "1992    64.160338\n",
      "1997    65.014676\n",
      "2002    65.694923\n",
      "2007    67.007423\n",
      "Name: lifeExp, dtype: float64\n"
     ]
    }
   ],
   "source": [
    "avg_life_exp_by_year = df.groupby('year').lifeExp.mean()\n",
    "print(avg_life_exp_by_year)"
   ]
  },
  {
   "cell_type": "markdown",
   "id": "judicial-monster",
   "metadata": {},
   "source": [
    "### 분할 - 반영 - 결합 과정 살펴보기  -groupby 메서드\n",
    "\n",
    "앞에서 groupby 메서드를 사용해 lifeExp 열의 연도별 평균값을 구했습니다. 그러면 실제로 groupby 메서드는 어떤 과정을 통해 데이터 집계 할까요? groupby 메서드 자체를 분해하여 살펴보는 것은 불가능하기 때문에 비슷한 연산을 수행하는 메서드를 순서대로 실행하면 알아보자\n",
    "\n",
    "#### 분할 - 반영 - 결합 과정 살펴보기\n",
    "1.실제로 groupby 메서드에 life 열을 전달하면 가장 먼저 연도별로 데이터를 나누는 과정이 진행됩니다. 다음은 year 열의 데이터를 중복 없이 추출한 것입니다. groupby 메서드에 열 이름을 전달하면 이런 '분할'작업이 먼저 일어난다고 이해하세요."
   ]
  },
  {
   "cell_type": "code",
   "execution_count": 3,
   "id": "applicable-charleston",
   "metadata": {},
   "outputs": [
    {
     "name": "stdout",
     "output_type": "stream",
     "text": [
      "[1952 1957 1962 1967 1972 1977 1982 1987 1992 1997 2002 2007]\n"
     ]
    }
   ],
   "source": [
    "years = df.year.unique()\n",
    "print(years)"
   ]
  },
  {
   "cell_type": "markdown",
   "id": "computational-laptop",
   "metadata": {},
   "source": [
    "2.그런 다음에는 연도별로 평균값을 구합니다. 그러려면 일단 각 연도별로 데이터를 추출해야겠죠? 다음은 1952년의 데이터를 추출한 것입니다. 이과정을 '반영'작업의 한 부분이라고 이해하세요."
   ]
  },
  {
   "cell_type": "code",
   "execution_count": 4,
   "id": "neutral-quantum",
   "metadata": {},
   "outputs": [
    {
     "name": "stdout",
     "output_type": "stream",
     "text": [
      "        country continent  year  lifeExp       pop    gdpPercap\n",
      "0   Afghanistan      Asia  1952   28.801   8425333   779.445314\n",
      "12      Albania    Europe  1952   55.230   1282697  1601.056136\n",
      "24      Algeria    Africa  1952   43.077   9279525  2449.008185\n",
      "36       Angola    Africa  1952   30.015   4232095  3520.610273\n",
      "48    Argentina  Americas  1952   62.485  17876956  5911.315053\n"
     ]
    }
   ],
   "source": [
    "y1952 = df.loc[df.year == 1952, :]\n",
    "print(y1952.head())"
   ]
  },
  {
   "cell_type": "markdown",
   "id": "immediate-advisory",
   "metadata": {},
   "source": [
    "3.아직 lifeExp 열의 평균값을 구하지 않았습니다. 다음은 과정 2에서 추출한 1952년의 데이터에서 lifeExp 열의 평균값을 구한 것입니다. 이과정도 '반영'작업의 한 부분입니다.\n"
   ]
  },
  {
   "cell_type": "code",
   "execution_count": 5,
   "id": "comparable-market",
   "metadata": {},
   "outputs": [
    {
     "name": "stdout",
     "output_type": "stream",
     "text": [
      "49.057619718309866\n"
     ]
    }
   ],
   "source": [
    "y1952_mean = y1952.lifeExp.mean()\n",
    "print(y1952_mean)"
   ]
  },
  {
   "cell_type": "markdown",
   "id": "apparent-stomach",
   "metadata": {},
   "source": [
    "4.과정 2~3을 반복하여 남은 연도의 평균값을 구하면 비로소 '반영' 작업이 끝납니다."
   ]
  },
  {
   "cell_type": "code",
   "execution_count": 11,
   "id": "possible-auckland",
   "metadata": {},
   "outputs": [
    {
     "name": "stdout",
     "output_type": "stream",
     "text": [
      "51.50740112676056\n",
      "53.609249014084504\n",
      "67.00742253521126\n"
     ]
    }
   ],
   "source": [
    "y1957 = df.loc[df.year == 1957, :] \n",
    "y1957_mean = y1957.lifeExp.mean( )\n",
    "print(y1957_mean)\n",
    "\n",
    "y1962 = df.loc[df.year == 1962, :] \n",
    "y1962_mean = y1962.lifeExp.mean( )\n",
    "print(y1962_mean)\n",
    "\n",
    "y2007 = df.loc[df.year == 2007, :] \n",
    "y2007_mean = y2007.lifeExp.mean( )\n",
    "print(y2007_mean)"
   ]
  },
  {
   "cell_type": "markdown",
   "id": "pretty-piece",
   "metadata": {},
   "source": [
    "5.마지막으로 연도별로 계산한 lifeExp의 평균값을 합칩니다. 바로 이 과정을 '결합'작업 입니다."
   ]
  },
  {
   "cell_type": "code",
   "execution_count": 12,
   "id": "sustained-mercury",
   "metadata": {},
   "outputs": [
    {
     "name": "stdout",
     "output_type": "stream",
     "text": [
      "   year           \n",
      "0  1952  49.057620\n",
      "1  1957  51.507401\n",
      "2  1962  53.609249\n",
      "3  2007  67.007423\n"
     ]
    }
   ],
   "source": [
    "df2 = pd.DataFrame({\"year\":[1952, 1957, 1962, 2007],\n",
    "                   \"\":[y1952_mean, y1957_mean, y1962_mean, y2007_mean]})\n",
    "print(df2)"
   ]
  },
  {
   "cell_type": "markdown",
   "id": "finite-flavor",
   "metadata": {},
   "source": [
    "### groupby 메서드와 함께 사용하는 집계 메서드\n",
    "\n",
    "\n",
    "#### 집계 메서드\n",
    "\n",
    "메서드 | 설명\n",
    "--- | ---\n",
    "count | 누락값을 제외한 데이터 수를 반환\n",
    "size | 누락값을 포함한 데이터 수를 반환\n",
    "mean | 평균값 반환\n",
    "std | 표준편차 반환\n",
    "min | 최솟값 반환\n",
    "quantile(q=0.25) | 백분위수 25%\n",
    "quantile(q=0.50) | 백분위수 50%\n",
    "quantile(q=0.75) | 백분위수 75%\n",
    "max | 최댓값 반환\n",
    "sum | 전체 합 반환\n",
    "var | 분산 반환\n",
    "sem | 평균의 표준편차 반환\n",
    "describe | 데이터 수, 평균, 표준편차, 최소값, 백분위수(25,50,75%),최댓값을 모두 반환\n",
    "first | 첫 번째 행 반환\n",
    "last | 마지막 행 반환\n",
    "nth | n번째 행 반환"
   ]
  },
  {
   "cell_type": "markdown",
   "id": "posted-locking",
   "metadata": {},
   "source": [
    "### agg 메서드로 사용자 함수와 groupby 메서드 조합하기\n",
    "\n",
    "라이브러리에서 제공하는 집계 메서드로 원하는 값을 계산할 수 없는 경우에는 직접 함수를 만들어서 사용해야 합니다. 이번에는 사용자 함수와 groupby 메서드를 조합해서 사용해 보겠습니다. 사용자 함수와 groupby 메서드를 조합하려면 agg 메서드를 이용해야 합니다.\n",
    "\n",
    "### 평균값을 구하는 사용자 함수와 groupby 메서드\n",
    "1.다음은 입력받은 열의 평균값을 구하는 함수입니다."
   ]
  },
  {
   "cell_type": "code",
   "execution_count": 16,
   "id": "extra-sigma",
   "metadata": {},
   "outputs": [],
   "source": [
    "def my_mean(values):\n",
    "    n = len(values)\n",
    "    sum = 0\n",
    "    for value in values:\n",
    "        sum += value\n",
    "        \n",
    "    return sum / n"
   ]
  },
  {
   "cell_type": "code",
   "execution_count": 17,
   "id": "crazy-custody",
   "metadata": {},
   "outputs": [
    {
     "name": "stdout",
     "output_type": "stream",
     "text": [
      "year\n",
      "1952    49.057620\n",
      "1957    51.507401\n",
      "1962    53.609249\n",
      "1967    55.678290\n",
      "1972    57.647386\n",
      "1977    59.570157\n",
      "1982    61.533197\n",
      "1987    63.212613\n",
      "1992    64.160338\n",
      "1997    65.014676\n",
      "2002    65.694923\n",
      "2007    67.007423\n",
      "Name: lifeExp, dtype: float64\n"
     ]
    }
   ],
   "source": [
    "agg_my_mean = df.groupby('year').lifeExp.agg(my_mean)\n",
    "print(agg_my_mean)"
   ]
  },
  {
   "cell_type": "markdown",
   "id": "piano-attempt",
   "metadata": {},
   "source": [
    "### 2개의 인잣값을 받아 처리하는 사용자 함수와 groupby 메서드\n",
    "\n",
    "1.이번에는 2개의 인잣값을 받아 처리하는 사용자 정의 함수(my_mean_diff)를 만들어보겠습니다. 다음은 첫 번째 인자로 받은 열의 평균값을 구하여 두 번째 인자로 받은 값과의 차이를 계산한 다음 반환하는 함수입니다."
   ]
  },
  {
   "cell_type": "code",
   "execution_count": 18,
   "id": "limiting-newspaper",
   "metadata": {},
   "outputs": [],
   "source": [
    "def my_mean_diff(values, diff_value):\n",
    "    n = len(values)\n",
    "    sum = 0\n",
    "    for value in values:\n",
    "        sum += value\n",
    "    mean = sum / n\n",
    "    return mean - diff_value"
   ]
  },
  {
   "cell_type": "markdown",
   "id": "leading-audio",
   "metadata": {},
   "source": [
    "2.다음은 연도별 평균 수명에서 전체 평균 수명을 뺀 값을 구한 것입니다. agg 메서드의 첫 번째 인자에 my_mean_diff 함수를 전달하고 두 번째 인자에 전체 평균 수명값을 전달 했습니다."
   ]
  },
  {
   "cell_type": "code",
   "execution_count": 19,
   "id": "organizational-stack",
   "metadata": {},
   "outputs": [
    {
     "name": "stdout",
     "output_type": "stream",
     "text": [
      "59.474439366197174\n"
     ]
    }
   ],
   "source": [
    "global_mean = df.lifeExp.mean()\n",
    "print(global_mean)"
   ]
  },
  {
   "cell_type": "code",
   "execution_count": 20,
   "id": "stretch-athens",
   "metadata": {},
   "outputs": [
    {
     "name": "stdout",
     "output_type": "stream",
     "text": [
      "year\n",
      "1952   -10.416820\n",
      "1957    -7.967038\n",
      "1962    -5.865190\n",
      "1967    -3.796150\n",
      "1972    -1.827053\n",
      "1977     0.095718\n",
      "1982     2.058758\n",
      "1987     3.738173\n",
      "1992     4.685899\n",
      "1997     5.540237\n",
      "2002     6.220483\n",
      "2007     7.532983\n",
      "Name: lifeExp, dtype: float64\n"
     ]
    }
   ],
   "source": [
    "agg_mean_diff = df.groupby('year').lifeExp.agg(my_mean_diff, diff_value=global_mean)\n",
    "print(agg_mean_diff)"
   ]
  },
  {
   "cell_type": "markdown",
   "id": "resident-referral",
   "metadata": {},
   "source": [
    "### 집계 메서드를 리스트, 딕셔너리에 담아 전달하기\n",
    "1.다음은 연도별로 그룹화한 lifeExp 열의 0이아닌 값의 개수, 평균, 표준편차를 한 번에 계산하여 출력한 것입니다. 넘파이 메서드인 count_nonzero, mean, std를 리스트에 담아 agg 메서드에 전달했습니다."
   ]
  },
  {
   "cell_type": "code",
   "execution_count": 22,
   "id": "timely-primary",
   "metadata": {},
   "outputs": [
    {
     "name": "stdout",
     "output_type": "stream",
     "text": [
      "      count_nonzero       mean        std\n",
      "year                                     \n",
      "1952          142.0  49.057620  12.225956\n",
      "1957          142.0  51.507401  12.231286\n",
      "1962          142.0  53.609249  12.097245\n",
      "1967          142.0  55.678290  11.718858\n",
      "1972          142.0  57.647386  11.381953\n",
      "1977          142.0  59.570157  11.227229\n",
      "1982          142.0  61.533197  10.770618\n",
      "1987          142.0  63.212613  10.556285\n",
      "1992          142.0  64.160338  11.227380\n",
      "1997          142.0  65.014676  11.559439\n",
      "2002          142.0  65.694923  12.279823\n",
      "2007          142.0  67.007423  12.073021\n"
     ]
    }
   ],
   "source": [
    "import numpy as np\n",
    "gdf = df.groupby('year').lifeExp.agg([np.count_nonzero, np.mean, np.std])\n",
    "print(gdf)"
   ]
  },
  {
   "cell_type": "markdown",
   "id": "dressed-consolidation",
   "metadata": {},
   "source": [
    "2.이번에는 집계 메서드를 딕셔너리에 담아 agg 메서드에 전달해 보겠습니다. 딕셔너리의 키로 집계 메서드를 적용할 열 이름을 전달하고 딕셔너리의 값으로 집계 메서드를 전달하면 됩니다."
   ]
  },
  {
   "cell_type": "code",
   "execution_count": 26,
   "id": "solar-remove",
   "metadata": {},
   "outputs": [
    {
     "name": "stdout",
     "output_type": "stream",
     "text": [
      "        lifeExp         pop    gdpPercap\n",
      "year                                    \n",
      "1952  49.057620   3943953.0  1968.528344\n",
      "1957  51.507401   4282942.0  2173.220291\n",
      "1962  53.609249   4686039.5  2335.439533\n",
      "1967  55.678290   5170175.5  2678.334741\n",
      "1972  57.647386   5877996.5  3339.129407\n",
      "1977  59.570157   6404036.5  3798.609244\n",
      "1982  61.533197   7007320.0  4216.228428\n",
      "1987  63.212613   7774861.5  4280.300366\n",
      "1992  64.160338   8688686.5  4386.085502\n",
      "1997  65.014676   9735063.5  4781.825478\n",
      "2002  65.694923  10372918.5  5319.804524\n",
      "2007  67.007423  10517531.0  6124.371109\n"
     ]
    }
   ],
   "source": [
    "gdf_dict = df.groupby('year').agg({ 'lifeExp': 'mean', 'pop': 'median', 'gdpPercap': 'median'})\n",
    "print(gdf_dict)"
   ]
  },
  {
   "cell_type": "markdown",
   "id": "effective-rings",
   "metadata": {},
   "source": [
    "# 11 - 2 데이터 변환\n",
    "\n",
    "### 표준점수 계산하기\n",
    "통계 분야에서는 데이터 평균과 표준편차의 차이를 표준점수라고 부릅니다. 표준점수를 구하면 변환한 데이터의 평균값이 0이 되고 표준편차는 1이됩니다. 그러면 데이터가 표준화되어 서로 다른 데이터를 쉽게 비교할 수 있게되죠. 표준점수는 통계에서 자주 사용하는 지표입니다.\n",
    "\n",
    "#### 표준점수 계산하기\n",
    "1.다음은 표준점수를 계산하는 함수입니다."
   ]
  },
  {
   "cell_type": "code",
   "execution_count": 27,
   "id": "cultural-reach",
   "metadata": {},
   "outputs": [],
   "source": [
    "def my_zscore(x):\n",
    "    return (x - x.mean()) / x.std()"
   ]
  },
  {
   "cell_type": "markdown",
   "id": "latest-palestinian",
   "metadata": {},
   "source": [
    "2.다음은 각 연도별 lifeExp 열의 표준점수를 계산한 것입니다. my_zscore 함수를 적용하기 위해 transform 메서드를 사용했습니다."
   ]
  },
  {
   "cell_type": "code",
   "execution_count": 28,
   "id": "comfortable-dominican",
   "metadata": {},
   "outputs": [
    {
     "name": "stdout",
     "output_type": "stream",
     "text": [
      "0   -1.656854\n",
      "1   -1.731249\n",
      "2   -1.786543\n",
      "3   -1.848157\n",
      "4   -1.894173\n",
      "Name: lifeExp, dtype: float64\n"
     ]
    }
   ],
   "source": [
    "transform_z = df.groupby('year').lifeExp.transform(my_zscore)\n",
    "\n",
    "print(transform_z.head())"
   ]
  },
  {
   "cell_type": "markdown",
   "id": "productive-crest",
   "metadata": {},
   "source": [
    "3.my_zscore 함수는 데이터를 표준화할 뿐 집계는 하지 않습니다. 즉, 데이터의 양이 줄어들지 않습니다. 다음은 원본 데이터프레임(df)의 데이터 크기와 변환한 데이터프레임(transform_z)의 데이터 크기를 비교한 것입니다."
   ]
  },
  {
   "cell_type": "code",
   "execution_count": 29,
   "id": "comparative-worse",
   "metadata": {},
   "outputs": [
    {
     "name": "stdout",
     "output_type": "stream",
     "text": [
      "(1704, 6)\n"
     ]
    }
   ],
   "source": [
    "print(df.shape)"
   ]
  },
  {
   "cell_type": "code",
   "execution_count": 30,
   "id": "higher-ceramic",
   "metadata": {},
   "outputs": [
    {
     "name": "stdout",
     "output_type": "stream",
     "text": [
      "(1704,)\n"
     ]
    }
   ],
   "source": [
    "print(transform_z.shape)"
   ]
  },
  {
   "cell_type": "markdown",
   "id": "appreciated-basis",
   "metadata": {},
   "source": [
    "### 누락값을 평균값으로 처리하기\n",
    "\n",
    "1.다음은 seaborn 라이브러리의 tips 데이터 집합에서 10개의 행 데이터만 가져온 다음 total_bill 열의 값 4개를 임의로 선택하여 누락값으로 바꾼 것입니다."
   ]
  },
  {
   "cell_type": "code",
   "execution_count": 31,
   "id": "deluxe-handy",
   "metadata": {},
   "outputs": [],
   "source": [
    "import seaborn as sns\n",
    "import numpy as np\n",
    "\n",
    "np.random.seed(42)"
   ]
  },
  {
   "cell_type": "code",
   "execution_count": 32,
   "id": "suburban-transcription",
   "metadata": {},
   "outputs": [
    {
     "name": "stdout",
     "output_type": "stream",
     "text": [
      "     total_bill   tip     sex smoker   day    time  size\n",
      "24        19.82  3.18    Male     No   Sat  Dinner     2\n",
      "6          8.77  2.00    Male     No   Sun  Dinner     2\n",
      "153         NaN  2.00    Male     No   Sun  Dinner     4\n",
      "211         NaN  5.16    Male    Yes   Sat  Dinner     4\n",
      "198         NaN  2.00  Female    Yes  Thur   Lunch     2\n",
      "176         NaN  2.00    Male    Yes   Sun  Dinner     2\n",
      "192       28.44  2.56    Male    Yes  Thur   Lunch     2\n",
      "124       12.48  2.52  Female     No  Thur   Lunch     2\n",
      "9         14.78  3.23    Male     No   Sun  Dinner     2\n",
      "101       15.38  3.00  Female    Yes   Fri  Dinner     2\n"
     ]
    }
   ],
   "source": [
    "tips_10 = sns.load_dataset('tips').sample(10)\n",
    "tips_10.loc[np.random.permutation(tips_10.index)[:4], 'total_bill'] = np.NaN\n",
    "print(tips_10)"
   ]
  },
  {
   "cell_type": "markdown",
   "id": "dress-switch",
   "metadata": {},
   "source": [
    "2.그런데 total_bill 열의 누락값을 단순히 total_bill 열의 평균값으로 채우면 안됩니다. 무슨 말 일까요? 현재 tips_10의 데이터는 여성보다 남성이 더 많습니다. 즉, 여성과 남성을 구분하여 total_bill 열의 평균값을 구하지 않으면 여성 데이터가 남성 데이터의 영향을 많이 받아 여성의 데이터가 훼손될 수 있습니다. 다음은 성별로 그룹화한 다음 각 열의 데이터 수를 구한 것입니다. total_bill 열을 살펴보면 남성의 누락값은 3개, 여성의 누락값은 1개라는 것을 알 수 있습니다."
   ]
  },
  {
   "cell_type": "code",
   "execution_count": 33,
   "id": "handed-kernel",
   "metadata": {},
   "outputs": [
    {
     "name": "stdout",
     "output_type": "stream",
     "text": [
      "        total_bill  tip  smoker  day  time  size\n",
      "sex                                             \n",
      "Male             4    7       7    7     7     7\n",
      "Female           2    3       3    3     3     3\n"
     ]
    }
   ],
   "source": [
    "count_sex = tips_10.groupby('sex').count()\n",
    "print(count_sex)"
   ]
  },
  {
   "cell_type": "markdown",
   "id": "motivated-sugar",
   "metadata": {},
   "source": [
    "3.다음은 성별을 구분하여 total_bill 열의 데이터를 받아 평균값을 구하는 함수입니다."
   ]
  },
  {
   "cell_type": "code",
   "execution_count": 34,
   "id": "defensive-remove",
   "metadata": {},
   "outputs": [],
   "source": [
    "def fill_na_mean(x):\n",
    "    avg = x.mean()\n",
    "    return x.fillna(avg)"
   ]
  },
  {
   "cell_type": "markdown",
   "id": "premier-handy",
   "metadata": {},
   "source": [
    "4.다음은 성별을 구분한 totall_bill 열의 데이터를 fill_na_mean 함수에 전달하여 평균값을 구한 다음 tips_10에 새로운 열로 추가한 것입니다. 남성과 여성의 누락값을 고려하여 계산한 평균값으로 잘 채워져 있는 것을 알 수 있습니다."
   ]
  },
  {
   "cell_type": "code",
   "execution_count": 37,
   "id": "ongoing-beauty",
   "metadata": {},
   "outputs": [
    {
     "name": "stdout",
     "output_type": "stream",
     "text": [
      "     total_bill   tip     sex smoker   day    time  size  fill_total_bill\n",
      "24        19.82  3.18    Male     No   Sat  Dinner     2          19.8200\n",
      "6          8.77  2.00    Male     No   Sun  Dinner     2           8.7700\n",
      "153         NaN  2.00    Male     No   Sun  Dinner     4          17.9525\n",
      "211         NaN  5.16    Male    Yes   Sat  Dinner     4          17.9525\n",
      "198         NaN  2.00  Female    Yes  Thur   Lunch     2          13.9300\n",
      "176         NaN  2.00    Male    Yes   Sun  Dinner     2          17.9525\n",
      "192       28.44  2.56    Male    Yes  Thur   Lunch     2          28.4400\n",
      "124       12.48  2.52  Female     No  Thur   Lunch     2          12.4800\n",
      "9         14.78  3.23    Male     No   Sun  Dinner     2          14.7800\n",
      "101       15.38  3.00  Female    Yes   Fri  Dinner     2          15.3800\n"
     ]
    }
   ],
   "source": [
    "total_bill_group_mean = tips_10.groupby('sex').total_bill.transform(fill_na_mean)\n",
    "tips_10['fill_total_bill'] = total_bill_group_mean\n",
    "print(tips_10)"
   ]
  },
  {
   "cell_type": "markdown",
   "id": "stylish-permission",
   "metadata": {},
   "source": [
    "# 11 - 3 데이터 필터링\n",
    "\n",
    "만약 그룹화한 데이터에서 원하는 데이터를 걸러내고 싶다면 어떻게 해야 할까? 그럴 때는 데이터 필터링을 사용하면 됩니다. 데이터 필터링을 사용하면 기준에 맞는 데이터를 걸러낼 수 있습니다.\n",
    "\n",
    "### 데이터 필터링 사용하기 - filter 메서드\n",
    "1.다음과 같이 tips 데이터 집합을 불러와 데이터 크기를 확인합니다."
   ]
  },
  {
   "cell_type": "code",
   "execution_count": 38,
   "id": "international-original",
   "metadata": {},
   "outputs": [
    {
     "name": "stdout",
     "output_type": "stream",
     "text": [
      "(244, 7)\n"
     ]
    }
   ],
   "source": [
    "tips = sns.load_dataset('tips')\n",
    "print(tips.shape)"
   ]
  },
  {
   "cell_type": "markdown",
   "id": "worth-geneva",
   "metadata": {},
   "source": [
    "2.size 열의 데이터 수를 확인해 보면 1, 5, 6테이블의 주문이 매우 적다는 것을 알 수 있습니다."
   ]
  },
  {
   "cell_type": "code",
   "execution_count": 39,
   "id": "comparable-belfast",
   "metadata": {},
   "outputs": [
    {
     "name": "stdout",
     "output_type": "stream",
     "text": [
      "2    156\n",
      "3     38\n",
      "4     37\n",
      "5      5\n",
      "6      4\n",
      "1      4\n",
      "Name: size, dtype: int64\n"
     ]
    }
   ],
   "source": [
    "print(tips['size'].value_counts())"
   ]
  },
  {
   "cell_type": "markdown",
   "id": "handled-drive",
   "metadata": {},
   "source": [
    "3.상황에 따라 이런 데이터는 제외하기도 합니다. 만약 30번 이상의 주문이 있는 테이블만 추려 데이터 분석을 하려면 어떻게 해야 할까? 다음은 30번 이상의 주문이 있는 테이블만 그룹화하여 변수 tips_filtered에 저장한 것입니다."
   ]
  },
  {
   "cell_type": "code",
   "execution_count": 41,
   "id": "chicken-literature",
   "metadata": {},
   "outputs": [],
   "source": [
    "tips_filtered = tips.\\\n",
    "    groupby('size').\\\n",
    "    filter(lambda x: x['size'].count() >= 30)"
   ]
  },
  {
   "cell_type": "markdown",
   "id": "grand-resource",
   "metadata": {},
   "source": [
    "4.과정 3을 거치고 나면 1,5,6 테이블의 데이터가 제외되었다는 것을 알 수 있습니다."
   ]
  },
  {
   "cell_type": "code",
   "execution_count": 42,
   "id": "oriental-poland",
   "metadata": {},
   "outputs": [
    {
     "name": "stdout",
     "output_type": "stream",
     "text": [
      "(231, 7)\n"
     ]
    }
   ],
   "source": [
    "print(tips_filtered.shape)"
   ]
  },
  {
   "cell_type": "code",
   "execution_count": 43,
   "id": "stock-cable",
   "metadata": {},
   "outputs": [
    {
     "name": "stdout",
     "output_type": "stream",
     "text": [
      "2    156\n",
      "3     38\n",
      "4     37\n",
      "Name: size, dtype: int64\n"
     ]
    }
   ],
   "source": [
    "print(tips_filtered['size'].value_counts())"
   ]
  },
  {
   "cell_type": "markdown",
   "id": "lyric-custom",
   "metadata": {},
   "source": [
    "# 11 - 4 그룹 오브젝트\n",
    "\n",
    "### 그룹 오브젝트 저장하여 살펴보기\n",
    "1.다음은 tips 데이터 집합에서 임의로 10개의 데이터를 추출한 것입니다."
   ]
  },
  {
   "cell_type": "code",
   "execution_count": 44,
   "id": "introductory-tract",
   "metadata": {},
   "outputs": [
    {
     "name": "stdout",
     "output_type": "stream",
     "text": [
      "     total_bill   tip     sex smoker   day    time  size\n",
      "24        19.82  3.18    Male     No   Sat  Dinner     2\n",
      "6          8.77  2.00    Male     No   Sun  Dinner     2\n",
      "153       24.55  2.00    Male     No   Sun  Dinner     4\n",
      "211       25.89  5.16    Male    Yes   Sat  Dinner     4\n",
      "198       13.00  2.00  Female    Yes  Thur   Lunch     2\n",
      "176       17.89  2.00    Male    Yes   Sun  Dinner     2\n",
      "192       28.44  2.56    Male    Yes  Thur   Lunch     2\n",
      "124       12.48  2.52  Female     No  Thur   Lunch     2\n",
      "9         14.78  3.23    Male     No   Sun  Dinner     2\n",
      "101       15.38  3.00  Female    Yes   Fri  Dinner     2\n"
     ]
    }
   ],
   "source": [
    "tips_10 = sns.load_dataset('tips').sample(10, random_state=42)\n",
    "print(tips_10)"
   ]
  },
  {
   "cell_type": "markdown",
   "id": "quiet-obligation",
   "metadata": {},
   "source": [
    "2.groupby 메서드의 결괏값을 출력하면 자료형이 그룹 오브젝트라는 것을 확인할 수 있습니다."
   ]
  },
  {
   "cell_type": "code",
   "execution_count": 45,
   "id": "blind-yacht",
   "metadata": {},
   "outputs": [
    {
     "name": "stdout",
     "output_type": "stream",
     "text": [
      "<pandas.core.groupby.generic.DataFrameGroupBy object at 0x7f06d30c19e8>\n"
     ]
    }
   ],
   "source": [
    "grouped = tips_10.groupby('sex')\n",
    "print(grouped)"
   ]
  },
  {
   "cell_type": "markdown",
   "id": "federal-wiring",
   "metadata": {},
   "source": [
    "3.그룹 오브젝트에 포함된 그룹을 보려면 groups 속성을 출력하면 됩니다. 그러면 sex 열로 그룹화한 데이터프레임의 인덱스를 확인할 수 있습니다. 이 그룹 오브젝트로 집계, 변환, 필터 작업을 수행하면 되는 것이죠."
   ]
  },
  {
   "cell_type": "code",
   "execution_count": 46,
   "id": "continuous-cathedral",
   "metadata": {},
   "outputs": [
    {
     "name": "stdout",
     "output_type": "stream",
     "text": [
      "{'Male': [24, 6, 153, 211, 176, 192, 9], 'Female': [198, 124, 101]}\n"
     ]
    }
   ],
   "source": [
    "print(grouped.groups)"
   ]
  },
  {
   "cell_type": "markdown",
   "id": "looking-acquisition",
   "metadata": {},
   "source": [
    "# 한 번에 그룹 오브젝트 계산하기\n",
    "\n",
    "### 그룹 오브젝트의 평균 구하기\n",
    "1.일단 앞에서 만든 그룹 오브젝트(grouped)를 이용하여 평균을 구해 보겠습니다. 그러면 tips 데이터 집합의 모든 열의 평균을 구한 것이 아니라 total_bill, tip, size 열의 평균을 구했다는 것을 알 수 있습니다."
   ]
  },
  {
   "cell_type": "code",
   "execution_count": 47,
   "id": "favorite-treasury",
   "metadata": {},
   "outputs": [
    {
     "name": "stdout",
     "output_type": "stream",
     "text": [
      "        total_bill       tip      size\n",
      "sex                                   \n",
      "Male         20.02  2.875714  2.571429\n",
      "Female       13.62  2.506667  2.000000\n"
     ]
    }
   ],
   "source": [
    "avgs = grouped.mean()\n",
    "print(avgs)"
   ]
  },
  {
   "cell_type": "markdown",
   "id": "fixed-saturn",
   "metadata": {},
   "source": [
    "2.tips 데이터 집합의 열을 확인해 보면 평균값을 계산할 수 없는 열인 smoker, day, time 열은 그룹 연산에서 제외되었다는 것을 알 수 있습니다. 이처럼 파이썬은 그룹 연산에 적합한 열을 알아서 골라줍니다."
   ]
  },
  {
   "cell_type": "code",
   "execution_count": 48,
   "id": "conditional-entrance",
   "metadata": {},
   "outputs": [
    {
     "name": "stdout",
     "output_type": "stream",
     "text": [
      "Index(['total_bill', 'tip', 'sex', 'smoker', 'day', 'time', 'size'], dtype='object')\n"
     ]
    }
   ],
   "source": [
    "print(tips_10.columns)"
   ]
  },
  {
   "cell_type": "markdown",
   "id": "distant-blame",
   "metadata": {},
   "source": [
    "## 그룹 오브젝트 활용하기\n",
    "\n",
    "\n",
    "그룹 오브젝트를 활용하는 방법은 아주 많습니다. 그룹 오브젝트에서 '데이터 추출하기'와 '반복문 사용하기'를 실습을 해봅시다.\n",
    "\n",
    "### 그룹 오브젝트에서 데이터 추출하고 반복하기\n",
    "1.만약 그룹 오브젝트에서 특정 데이터만 추출하려면 get_group 메서드를 사용하면 됩니다. 다음은 sex 열로 그룹화한 그룹 오브젝트에 get_group 메서드를 사용하여 성별이 여성인 데이터만 추출한 것입니다."
   ]
  },
  {
   "cell_type": "code",
   "execution_count": 49,
   "id": "obvious-singer",
   "metadata": {},
   "outputs": [
    {
     "name": "stdout",
     "output_type": "stream",
     "text": [
      "     total_bill   tip     sex smoker   day    time  size\n",
      "198       13.00  2.00  Female    Yes  Thur   Lunch     2\n",
      "124       12.48  2.52  Female     No  Thur   Lunch     2\n",
      "101       15.38  3.00  Female    Yes   Fri  Dinner     2\n"
     ]
    }
   ],
   "source": [
    "female = grouped.get_group('Female')\n",
    "print(female)"
   ]
  },
  {
   "cell_type": "markdown",
   "id": "utility-george",
   "metadata": {},
   "source": [
    "2.이번에는 그룹 오브젝트를 반복문에 사용해 보겠습니다. sex열을 기준으로 그룹화한 tips 데이터 집합은 여성 그룹과 남성 그룹으로 나누어져 있습니다. 이 특징을 이용하여 반복문을 사용하면 됩니다. 다음은 각 성별 그룹의 데이터를 반복문을 이용하여 출력한 것입니다."
   ]
  },
  {
   "cell_type": "code",
   "execution_count": 50,
   "id": "incorporate-swiss",
   "metadata": {},
   "outputs": [
    {
     "name": "stdout",
     "output_type": "stream",
     "text": [
      "('Male',      total_bill   tip   sex smoker   day    time  size\n",
      "24        19.82  3.18  Male     No   Sat  Dinner     2\n",
      "6          8.77  2.00  Male     No   Sun  Dinner     2\n",
      "153       24.55  2.00  Male     No   Sun  Dinner     4\n",
      "211       25.89  5.16  Male    Yes   Sat  Dinner     4\n",
      "176       17.89  2.00  Male    Yes   Sun  Dinner     2\n",
      "192       28.44  2.56  Male    Yes  Thur   Lunch     2\n",
      "9         14.78  3.23  Male     No   Sun  Dinner     2)\n",
      "('Female',      total_bill   tip     sex smoker   day    time  size\n",
      "198       13.00  2.00  Female    Yes  Thur   Lunch     2\n",
      "124       12.48  2.52  Female     No  Thur   Lunch     2\n",
      "101       15.38  3.00  Female    Yes   Fri  Dinner     2)\n"
     ]
    }
   ],
   "source": [
    "for sex_group in grouped:\n",
    "    print(sex_group)"
   ]
  },
  {
   "cell_type": "markdown",
   "id": "transparent-manual",
   "metadata": {},
   "source": [
    "3.그런데 과정 2의 결과를 자세히 살펴보면 sex_group으로 넘어온 값이 튜플이라는 것을 알 수 있습니다. 다음은 sex_group의 자세한 정보를 출력한 것입니다."
   ]
  },
  {
   "cell_type": "code",
   "execution_count": 52,
   "id": "dense-devil",
   "metadata": {},
   "outputs": [
    {
     "name": "stdout",
     "output_type": "stream",
     "text": [
      "the type is: <class 'tuple'>\n",
      "\n",
      "the length is: 2\n",
      "\n",
      "the first element is: Male\n",
      "\n",
      "it has a type of: <class 'str'>\n",
      "\n",
      "the second element is:\n",
      "     total_bill   tip   sex smoker   day    time  size\n",
      "24        19.82  3.18  Male     No   Sat  Dinner     2\n",
      "6          8.77  2.00  Male     No   Sun  Dinner     2\n",
      "153       24.55  2.00  Male     No   Sun  Dinner     4\n",
      "211       25.89  5.16  Male    Yes   Sat  Dinner     4\n",
      "176       17.89  2.00  Male    Yes   Sun  Dinner     2\n",
      "192       28.44  2.56  Male    Yes  Thur   Lunch     2\n",
      "9         14.78  3.23  Male     No   Sun  Dinner     2\n",
      "\n",
      "it has a type of: <class 'pandas.core.frame.DataFrame'>\n",
      "\n",
      "what we have:\n",
      "('Male',      total_bill   tip   sex smoker   day    time  size\n",
      "24        19.82  3.18  Male     No   Sat  Dinner     2\n",
      "6          8.77  2.00  Male     No   Sun  Dinner     2\n",
      "153       24.55  2.00  Male     No   Sun  Dinner     4\n",
      "211       25.89  5.16  Male    Yes   Sat  Dinner     4\n",
      "176       17.89  2.00  Male    Yes   Sun  Dinner     2\n",
      "192       28.44  2.56  Male    Yes  Thur   Lunch     2\n",
      "9         14.78  3.23  Male     No   Sun  Dinner     2)\n"
     ]
    }
   ],
   "source": [
    "for sex_group in grouped:\n",
    "    print('the type is: {}\\n'.format(type(sex_group)))\n",
    "    print('the length is: {}\\n'.format(len(sex_group)))\n",
    "\n",
    "    first_element = sex_group[0] \n",
    "    print('the first element is: {}\\n'.format(first_element))\n",
    "    print('it has a type of: {}\\n'.format(type(sex_group[0])))\n",
    "\n",
    "    second_element = sex_group[1] \n",
    "    print('the second element is:\\n{}\\n'.format(second_element))\n",
    "    print('it has a type of: {}\\n'.format(type(second_element)))\n",
    "\n",
    "    print('what we have:') \n",
    "    print(sex_group)\n",
    "\n",
    "    break"
   ]
  },
  {
   "cell_type": "markdown",
   "id": "attended-feeding",
   "metadata": {},
   "source": [
    "## 여러 열을 사용해 그룹 오브젝트 만들고 계산하기\n",
    "\n",
    "지금까지는 하나의 열을 사용하여 그룹 오브젝트를 만들고 연산을 수행했습니다. 하지만 여러 열을 사용하여 그룹 오브젝트를 맏들고 평균값을 구하는 등의 계산도 할 수 있습니다.\n",
    "\n",
    "### 그룹 오브젝트 계산하고 살펴보기\n",
    "1.여러 열을 사용하여 데이터를 그룹화하려면 리스트에 열 이름을 담아 groupby 메서드에 전달하면 됩니다. 다음은 sex, time 열을 기준으로 데이터를 그룹화하고 평균값을 구한것입니다."
   ]
  },
  {
   "cell_type": "code",
   "execution_count": 53,
   "id": "increasing-association",
   "metadata": {},
   "outputs": [
    {
     "name": "stdout",
     "output_type": "stream",
     "text": [
      "               total_bill       tip      size\n",
      "sex    time                                  \n",
      "Male   Lunch    28.440000  2.560000  2.000000\n",
      "       Dinner   18.616667  2.928333  2.666667\n",
      "Female Lunch    12.740000  2.260000  2.000000\n",
      "       Dinner   15.380000  3.000000  2.000000\n"
     ]
    }
   ],
   "source": [
    "bill_sex_time = tips_10.groupby(['sex', 'time'])\n",
    "group_avg = bill_sex_time.mean()\n",
    "\n",
    "print(group_avg)"
   ]
  },
  {
   "cell_type": "markdown",
   "id": "optimum-artwork",
   "metadata": {},
   "source": [
    "2.과정 1을 거친 group_avg의 자료형을 확인해 보면 데이터프레임이라는 것을 알 수 있습니다. 그리고 변수 group_avg에 포함된 열은 total_bill, tip, size라는 것도 알 수 있습니다."
   ]
  },
  {
   "cell_type": "code",
   "execution_count": 54,
   "id": "accompanied-occasion",
   "metadata": {},
   "outputs": [
    {
     "name": "stdout",
     "output_type": "stream",
     "text": [
      "<class 'pandas.core.frame.DataFrame'>\n"
     ]
    }
   ],
   "source": [
    "print(type(group_avg))"
   ]
  },
  {
   "cell_type": "code",
   "execution_count": 55,
   "id": "pregnant-adult",
   "metadata": {},
   "outputs": [
    {
     "name": "stdout",
     "output_type": "stream",
     "text": [
      "Index(['total_bill', 'tip', 'size'], dtype='object')\n"
     ]
    }
   ],
   "source": [
    "print(group_avg.columns)"
   ]
  },
  {
   "cell_type": "markdown",
   "id": "ongoing-cream",
   "metadata": {},
   "source": [
    "3.group_avg의 자료형은 데이터프레임이라고 했습니다. 그러면 인덱스는 어떻게 구성되어 있을까요? 다음은 group_avg의 인덱스를 출력한 것입니다."
   ]
  },
  {
   "cell_type": "code",
   "execution_count": 56,
   "id": "straight-certificate",
   "metadata": {},
   "outputs": [
    {
     "name": "stdout",
     "output_type": "stream",
     "text": [
      "MultiIndex([(  'Male',  'Lunch'),\n",
      "            (  'Male', 'Dinner'),\n",
      "            ('Female',  'Lunch'),\n",
      "            ('Female', 'Dinner')],\n",
      "           names=['sex', 'time'])\n"
     ]
    }
   ],
   "source": [
    "print(group_avg.index)"
   ]
  },
  {
   "cell_type": "markdown",
   "id": "minimal-benefit",
   "metadata": {},
   "source": [
    "4.과정 3과 같이 데이터프레임의 인덱스가 MultiIndex인 경우에는 reset_index 메서드를 사용하여 데이터프레임의 인덱스를 새로 부여할 수도 있습니다."
   ]
  },
  {
   "cell_type": "code",
   "execution_count": 57,
   "id": "obvious-tuesday",
   "metadata": {},
   "outputs": [
    {
     "name": "stdout",
     "output_type": "stream",
     "text": [
      "      sex    time  total_bill       tip      size\n",
      "0    Male   Lunch   28.440000  2.560000  2.000000\n",
      "1    Male  Dinner   18.616667  2.928333  2.666667\n",
      "2  Female   Lunch   12.740000  2.260000  2.000000\n",
      "3  Female  Dinner   15.380000  3.000000  2.000000\n"
     ]
    }
   ],
   "source": [
    "group_method = tips_10.groupby(['sex', 'time']).mean().reset_index()\n",
    "print(group_method)"
   ]
  },
  {
   "cell_type": "markdown",
   "id": "progressive-destiny",
   "metadata": {},
   "source": [
    "5.reset_index 메서드 대신 as_index 인자를 False로 설정해도 과정 4와 같은 결과를 얻을 수 있습니다."
   ]
  },
  {
   "cell_type": "code",
   "execution_count": 58,
   "id": "bacterial-tractor",
   "metadata": {},
   "outputs": [
    {
     "name": "stdout",
     "output_type": "stream",
     "text": [
      "      sex    time  total_bill       tip      size\n",
      "0    Male   Lunch   28.440000  2.560000  2.000000\n",
      "1    Male  Dinner   18.616667  2.928333  2.666667\n",
      "2  Female   Lunch   12.740000  2.260000  2.000000\n",
      "3  Female  Dinner   15.380000  3.000000  2.000000\n"
     ]
    }
   ],
   "source": [
    "group_param = tips_10.groupby(['sex', 'time'], as_index=False).mean()\n",
    "print(group_param)"
   ]
  },
  {
   "cell_type": "markdown",
   "id": "discrete-attack",
   "metadata": {},
   "source": [
    "### 마무리하며\n",
    "\n",
    "이번에는 groupby 메서드의 분리 - 반영 = 결합 과정을 구체적으로 살펴보고 데이터를 집계, 변환, 필터링하는 방법을 알아보았습니다.\n",
    "또 여러 가지 방법으로 그룹 오브젝트를 만들고 계산하는 방법도 알아보았습니다. 데이터를 그룹화하여 계산하는 작업은 실무에서 자주 사용하므로 반드시 알아두어야 합니다."
   ]
  },
  {
   "cell_type": "code",
   "execution_count": null,
   "id": "thorough-speaker",
   "metadata": {},
   "outputs": [],
   "source": []
  }
 ],
 "metadata": {
  "kernelspec": {
   "display_name": "Python 3",
   "language": "python",
   "name": "python3"
  },
  "language_info": {
   "codemirror_mode": {
    "name": "ipython",
    "version": 3
   },
   "file_extension": ".py",
   "mimetype": "text/x-python",
   "name": "python",
   "nbconvert_exporter": "python",
   "pygments_lexer": "ipython3",
   "version": "3.6.9"
  }
 },
 "nbformat": 4,
 "nbformat_minor": 5
}
