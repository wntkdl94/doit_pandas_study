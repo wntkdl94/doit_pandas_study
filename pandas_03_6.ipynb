{
 "cells": [
  {
   "cell_type": "markdown",
   "id": "specific-webcam",
   "metadata": {},
   "source": [
    "# 데이터 저장하고 불러오기"
   ]
  },
  {
   "cell_type": "markdown",
   "id": "eastern-colonial",
   "metadata": {},
   "source": [
    "### 1. 피클로 저장하기"
   ]
  },
  {
   "cell_type": "code",
   "execution_count": 7,
   "id": "phantom-gamma",
   "metadata": {},
   "outputs": [],
   "source": [
    "names = scientists['Name']\n",
    "names.to_pickle('C:/Users/김지상/Downloads/doit_pandas-master/doit_pandas-master/output/scientists_names_series.pickle')"
   ]
  },
  {
   "cell_type": "markdown",
   "id": "paperback-signature",
   "metadata": {},
   "source": [
    "### 2. 데이터프레임도 피클로 저장할  수 있습니다."
   ]
  },
  {
   "cell_type": "code",
   "execution_count": 8,
   "id": "buried-istanbul",
   "metadata": {},
   "outputs": [],
   "source": [
    "scientists.to_pickle('C:/Users/김지상/Downloads/doit_pandas-master/doit_pandas-master/output/scientists_df.pickle')"
   ]
  },
  {
   "cell_type": "markdown",
   "id": "dramatic-financing",
   "metadata": {},
   "source": [
    "### 3. 피클데이터는 read_pickle 메서드로 읽기"
   ]
  },
  {
   "cell_type": "code",
   "execution_count": 9,
   "id": "equivalent-patent",
   "metadata": {},
   "outputs": [],
   "source": [
    "scientists_names_from_pickle = pd.read_pickle('C:/Users/김지상/Downloads/doit_pandas-master/doit_pandas-master/output/scientists_names_series.pickle')"
   ]
  },
  {
   "cell_type": "code",
   "execution_count": 10,
   "id": "decreased-roots",
   "metadata": {},
   "outputs": [
    {
     "name": "stdout",
     "output_type": "stream",
     "text": [
      "0       Rosaline Franklin\n",
      "1          William Gosset\n",
      "2    Florence Nightingale\n",
      "3             Marie Curie\n",
      "4           Rachel Carson\n",
      "5               John Snow\n",
      "6             Alan Turing\n",
      "7            Johann Gauss\n",
      "Name: Name, dtype: object\n"
     ]
    }
   ],
   "source": [
    "print(scientists_names_from_pickle)"
   ]
  },
  {
   "cell_type": "code",
   "execution_count": 11,
   "id": "outdoor-interval",
   "metadata": {},
   "outputs": [],
   "source": [
    "scientists_from_pickle = pd.read_pickle('C:/Users/김지상/Downloads/doit_pandas-master/doit_pandas-master/output/scientists_df.pickle')"
   ]
  },
  {
   "cell_type": "code",
   "execution_count": 12,
   "id": "detected-vehicle",
   "metadata": {},
   "outputs": [
    {
     "name": "stdout",
     "output_type": "stream",
     "text": [
      "                   Name        Born        Died  Age          Occupation\n",
      "0     Rosaline Franklin  1920-07-25  1958-04-16   37             Chemist\n",
      "1        William Gosset  1876-06-13  1937-10-16   61        Statistician\n",
      "2  Florence Nightingale  1820-05-12  1910-08-13   90               Nurse\n",
      "3           Marie Curie  1867-11-07  1934-07-04   66             Chemist\n",
      "4         Rachel Carson  1907-05-27  1964-04-14   56           Biologist\n",
      "5             John Snow  1813-03-15  1858-06-16   45           Physician\n",
      "6           Alan Turing  1912-06-23  1954-06-07   41  Computer Scientist\n",
      "7          Johann Gauss  1777-04-30  1855-02-23   77       Mathematician\n"
     ]
    }
   ],
   "source": [
    "print(scientists_from_pickle)"
   ]
  },
  {
   "cell_type": "markdown",
   "id": "numerical-definition",
   "metadata": {},
   "source": [
    "### 4. sep인자 추가하여 파일저장하기"
   ]
  },
  {
   "cell_type": "code",
   "execution_count": 13,
   "id": "negative-hopkins",
   "metadata": {},
   "outputs": [],
   "source": [
    "names.to_csv('C:/Users/김지상/Downloads/doit_pandas-master/doit_pandas-master/output/scientists_names_series.csv')"
   ]
  },
  {
   "cell_type": "code",
   "execution_count": 15,
   "id": "manufactured-detector",
   "metadata": {},
   "outputs": [],
   "source": [
    "scientists.to_csv('C:/Users/김지상/Downloads/doit_pandas-master/doit_pandas-master/output/scientists_df.tsv', sep='\\t')"
   ]
  },
  {
   "cell_type": "code",
   "execution_count": null,
   "id": "center-observation",
   "metadata": {},
   "outputs": [],
   "source": []
  }
 ],
 "metadata": {
  "kernelspec": {
   "display_name": "Python 3",
   "language": "python",
   "name": "python3"
  },
  "language_info": {
   "codemirror_mode": {
    "name": "ipython",
    "version": 3
   },
   "file_extension": ".py",
   "mimetype": "text/x-python",
   "name": "python",
   "nbconvert_exporter": "python",
   "pygments_lexer": "ipython3",
   "version": "3.6.9"
  }
 },
 "nbformat": 4,
 "nbformat_minor": 5
}
