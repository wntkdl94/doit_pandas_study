{
 "cells": [
  {
   "cell_type": "markdown",
   "id": "virtual-output",
   "metadata": {},
   "source": [
    "# 시리즈와 불린 추출 사용하기"
   ]
  },
  {
   "cell_type": "markdown",
   "id": "naval-circumstances",
   "metadata": {},
   "source": [
    "### 1. scientists.csv 데이터 불러오기"
   ]
  },
  {
   "cell_type": "code",
   "execution_count": 2,
   "id": "violent-footwear",
   "metadata": {},
   "outputs": [],
   "source": [
    "import pandas as pd"
   ]
  },
  {
   "cell_type": "code",
   "execution_count": 4,
   "id": "israeli-parking",
   "metadata": {},
   "outputs": [],
   "source": [
    "scientists = pd.read_csv('C:/Users/김지상/Downloads/doit_pandas-master/doit_pandas-master/data/scientists.csv')"
   ]
  },
  {
   "cell_type": "markdown",
   "id": "simple-letter",
   "metadata": {},
   "source": [
    "### 2. 통계 수치의 결괏값을 이용하여 불린 추출 하기."
   ]
  },
  {
   "cell_type": "code",
   "execution_count": 5,
   "id": "nonprofit-company",
   "metadata": {},
   "outputs": [],
   "source": [
    "ages = scientists['Age']"
   ]
  },
  {
   "cell_type": "code",
   "execution_count": 6,
   "id": "civil-pressing",
   "metadata": {},
   "outputs": [
    {
     "name": "stdout",
     "output_type": "stream",
     "text": [
      "90\n"
     ]
    }
   ],
   "source": [
    "print(ages.max())"
   ]
  },
  {
   "cell_type": "code",
   "execution_count": 7,
   "id": "filled-equity",
   "metadata": {},
   "outputs": [
    {
     "name": "stdout",
     "output_type": "stream",
     "text": [
      "59.125\n"
     ]
    }
   ],
   "source": [
    "print(ages.mean())"
   ]
  },
  {
   "cell_type": "markdown",
   "id": "expensive-proceeding",
   "metadata": {},
   "source": [
    "### 3. 불린 추출 사용하기"
   ]
  },
  {
   "cell_type": "code",
   "execution_count": 8,
   "id": "first-essence",
   "metadata": {},
   "outputs": [
    {
     "name": "stdout",
     "output_type": "stream",
     "text": [
      "1    61\n",
      "2    90\n",
      "3    66\n",
      "7    77\n",
      "Name: Age, dtype: int64\n"
     ]
    }
   ],
   "source": [
    "print(ages[ages > ages.mean()])"
   ]
  },
  {
   "cell_type": "code",
   "execution_count": 9,
   "id": "wound-influence",
   "metadata": {},
   "outputs": [
    {
     "name": "stdout",
     "output_type": "stream",
     "text": [
      "<class 'pandas.core.series.Series'>\n"
     ]
    }
   ],
   "source": [
    "print(type(ages > ages.mean()))"
   ]
  },
  {
   "cell_type": "markdown",
   "id": "private-bullet",
   "metadata": {},
   "source": [
    "### 4. 참(True) 조건식 만족값만 출력"
   ]
  },
  {
   "cell_type": "code",
   "execution_count": 10,
   "id": "narrow-finder",
   "metadata": {},
   "outputs": [
    {
     "name": "stdout",
     "output_type": "stream",
     "text": [
      "0    False\n",
      "1     True\n",
      "2     True\n",
      "3     True\n",
      "4    False\n",
      "5    False\n",
      "6    False\n",
      "7     True\n",
      "Name: Age, dtype: bool\n"
     ]
    }
   ],
   "source": [
    "print(ages > ages.mean())"
   ]
  },
  {
   "cell_type": "code",
   "execution_count": 11,
   "id": "premier-african",
   "metadata": {},
   "outputs": [
    {
     "name": "stdout",
     "output_type": "stream",
     "text": [
      "<class 'pandas.core.series.Series'>\n"
     ]
    }
   ],
   "source": [
    "print(type(ages > ages.mean()))"
   ]
  },
  {
   "cell_type": "markdown",
   "id": "identical-connectivity",
   "metadata": {},
   "source": [
    "### 5. 과정 3과4를 합친 코드로 불린 추출하기"
   ]
  },
  {
   "cell_type": "code",
   "execution_count": 12,
   "id": "lined-blank",
   "metadata": {},
   "outputs": [],
   "source": [
    "manual_bool_values = [True, True, False, False, True, True, False, True]"
   ]
  },
  {
   "cell_type": "code",
   "execution_count": 13,
   "id": "aging-demand",
   "metadata": {},
   "outputs": [
    {
     "name": "stdout",
     "output_type": "stream",
     "text": [
      "0    37\n",
      "1    61\n",
      "4    56\n",
      "5    45\n",
      "7    77\n",
      "Name: Age, dtype: int64\n"
     ]
    }
   ],
   "source": [
    "print(ages[manual_bool_values])"
   ]
  },
  {
   "cell_type": "markdown",
   "id": "monetary-delivery",
   "metadata": {},
   "source": [
    "# 시리즈와 브로드캐스팅"
   ]
  },
  {
   "cell_type": "markdown",
   "id": "collect-literacy",
   "metadata": {},
   "source": [
    "### 1. 같은 길이의 벡터로 + , * 연산 해보기"
   ]
  },
  {
   "cell_type": "code",
   "execution_count": 14,
   "id": "married-delaware",
   "metadata": {},
   "outputs": [
    {
     "name": "stdout",
     "output_type": "stream",
     "text": [
      "0     74\n",
      "1    122\n",
      "2    180\n",
      "3    132\n",
      "4    112\n",
      "5     90\n",
      "6     82\n",
      "7    154\n",
      "Name: Age, dtype: int64\n"
     ]
    }
   ],
   "source": [
    "print(ages + ages)"
   ]
  },
  {
   "cell_type": "code",
   "execution_count": 15,
   "id": "leading-marks",
   "metadata": {},
   "outputs": [
    {
     "name": "stdout",
     "output_type": "stream",
     "text": [
      "0    1369\n",
      "1    3721\n",
      "2    8100\n",
      "3    4356\n",
      "4    3136\n",
      "5    2025\n",
      "6    1681\n",
      "7    5929\n",
      "Name: Age, dtype: int64\n"
     ]
    }
   ],
   "source": [
    "print(ages * ages)"
   ]
  },
  {
   "cell_type": "markdown",
   "id": "japanese-funds",
   "metadata": {},
   "source": [
    "### 2. 벡터에 스칼라 연산하여 브로드캐스팅 하기"
   ]
  },
  {
   "cell_type": "code",
   "execution_count": 16,
   "id": "charged-sculpture",
   "metadata": {},
   "outputs": [
    {
     "name": "stdout",
     "output_type": "stream",
     "text": [
      "0    137\n",
      "1    161\n",
      "2    190\n",
      "3    166\n",
      "4    156\n",
      "5    145\n",
      "6    141\n",
      "7    177\n",
      "Name: Age, dtype: int64\n"
     ]
    }
   ],
   "source": [
    "print(ages + 100)"
   ]
  },
  {
   "cell_type": "code",
   "execution_count": 17,
   "id": "seeing-citizenship",
   "metadata": {},
   "outputs": [
    {
     "name": "stdout",
     "output_type": "stream",
     "text": [
      "0     74\n",
      "1    122\n",
      "2    180\n",
      "3    132\n",
      "4    112\n",
      "5     90\n",
      "6     82\n",
      "7    154\n",
      "Name: Age, dtype: int64\n"
     ]
    }
   ],
   "source": [
    "print(ages * 2)"
   ]
  },
  {
   "cell_type": "markdown",
   "id": "tamil-neighbor",
   "metadata": {},
   "source": [
    "### 3. 길이가 서로 다른 벡터를 연산해 보기"
   ]
  },
  {
   "cell_type": "code",
   "execution_count": 18,
   "id": "previous-ferry",
   "metadata": {},
   "outputs": [
    {
     "name": "stdout",
     "output_type": "stream",
     "text": [
      "0      1\n",
      "1    100\n",
      "dtype: int64\n"
     ]
    }
   ],
   "source": [
    "print(pd.Series([1, 100]))"
   ]
  },
  {
   "cell_type": "code",
   "execution_count": 19,
   "id": "scientific-notion",
   "metadata": {},
   "outputs": [
    {
     "name": "stdout",
     "output_type": "stream",
     "text": [
      "0     38.0\n",
      "1    161.0\n",
      "2      NaN\n",
      "3      NaN\n",
      "4      NaN\n",
      "5      NaN\n",
      "6      NaN\n",
      "7      NaN\n",
      "dtype: float64\n"
     ]
    }
   ],
   "source": [
    "print(ages + pd.Series([1, 100]))"
   ]
  },
  {
   "cell_type": "markdown",
   "id": "collected-cartoon",
   "metadata": {},
   "source": [
    "### 4. sort_index 메서드를 사용하여  ascending 인자로 False를 전달 인덱스 역순으로 데이터 정렬."
   ]
  },
  {
   "cell_type": "code",
   "execution_count": 20,
   "id": "moving-christmas",
   "metadata": {},
   "outputs": [],
   "source": [
    "rev_ages = ages.sort_index(ascending=False)"
   ]
  },
  {
   "cell_type": "code",
   "execution_count": 21,
   "id": "associate-toner",
   "metadata": {},
   "outputs": [
    {
     "name": "stdout",
     "output_type": "stream",
     "text": [
      "7    77\n",
      "6    41\n",
      "5    45\n",
      "4    56\n",
      "3    66\n",
      "2    90\n",
      "1    61\n",
      "0    37\n",
      "Name: Age, dtype: int64\n"
     ]
    }
   ],
   "source": [
    "print(rev_ages)"
   ]
  },
  {
   "cell_type": "markdown",
   "id": "frozen-catering",
   "metadata": {},
   "source": [
    "### 5. 벡터와 벡터의 연산은 일치하는 인덱스의 값끼리 수행하는것 확인하기"
   ]
  },
  {
   "cell_type": "code",
   "execution_count": 22,
   "id": "cardiac-baltimore",
   "metadata": {},
   "outputs": [
    {
     "name": "stdout",
     "output_type": "stream",
     "text": [
      "0     74\n",
      "1    122\n",
      "2    180\n",
      "3    132\n",
      "4    112\n",
      "5     90\n",
      "6     82\n",
      "7    154\n",
      "Name: Age, dtype: int64\n"
     ]
    }
   ],
   "source": [
    "print(ages * 2)"
   ]
  },
  {
   "cell_type": "code",
   "execution_count": 23,
   "id": "atomic-running",
   "metadata": {},
   "outputs": [
    {
     "name": "stdout",
     "output_type": "stream",
     "text": [
      "0     74\n",
      "1    122\n",
      "2    180\n",
      "3    132\n",
      "4    112\n",
      "5     90\n",
      "6     82\n",
      "7    154\n",
      "Name: Age, dtype: int64\n"
     ]
    }
   ],
   "source": [
    "print(ages + rev_ages)"
   ]
  },
  {
   "cell_type": "code",
   "execution_count": null,
   "id": "absent-vermont",
   "metadata": {},
   "outputs": [],
   "source": []
  }
 ],
 "metadata": {
  "kernelspec": {
   "display_name": "Python 3",
   "language": "python",
   "name": "python3"
  },
  "language_info": {
   "codemirror_mode": {
    "name": "ipython",
    "version": 3
   },
   "file_extension": ".py",
   "mimetype": "text/x-python",
   "name": "python",
   "nbconvert_exporter": "python",
   "pygments_lexer": "ipython3",
   "version": "3.9.2"
  }
 },
 "nbformat": 4,
 "nbformat_minor": 5
}
