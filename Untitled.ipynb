{
 "cells": [
  {
   "cell_type": "markdown",
   "id": "identified-monitor",
   "metadata": {},
   "source": [
    "# 시리즈 다루기 - 기초"
   ]
  },
  {
   "cell_type": "markdown",
   "id": "knowing-stockholm",
   "metadata": {},
   "source": [
    "### 1. 변수 scientists에 데이터 프레임 준비"
   ]
  },
  {
   "cell_type": "code",
   "execution_count": 1,
   "id": "behind-property",
   "metadata": {},
   "outputs": [],
   "source": [
    "import pandas as pd"
   ]
  },
  {
   "cell_type": "code",
   "execution_count": 5,
   "id": "medieval-headset",
   "metadata": {
    "scrolled": true
   },
   "outputs": [],
   "source": [
    "scientists = pd.DataFrame(\n",
    "    data={'Occupation': ['Chemist', 'Statistician'],\n",
    "          'Born': ['1920-07-25', '1876-06-13'],\n",
    "          'Died': ['1958-04-16', '1937-10-16'],\n",
    "          'Age': [37, 61]},\n",
    "    index=['Rosaline Franklin', 'William Gosset'],\n",
    "    columns=['Occupation', 'Born', 'Died', 'Age'])"
   ]
  },
  {
   "cell_type": "markdown",
   "id": "alpine-staff",
   "metadata": {},
   "source": [
    "### 2. 시리즈 확인하기 위해 type로 한번더 검사"
   ]
  },
  {
   "cell_type": "code",
   "execution_count": 6,
   "id": "united-spell",
   "metadata": {},
   "outputs": [],
   "source": [
    "first_row = scientists.loc['William Gosset']"
   ]
  },
  {
   "cell_type": "code",
   "execution_count": 8,
   "id": "thrown-blake",
   "metadata": {},
   "outputs": [
    {
     "name": "stdout",
     "output_type": "stream",
     "text": [
      "<class 'pandas.core.series.Series'>\n"
     ]
    }
   ],
   "source": [
    "print(type(first_row))"
   ]
  },
  {
   "cell_type": "markdown",
   "id": "charming-message",
   "metadata": {},
   "source": [
    "### 3. 시리즈를 출력 -> 시리즈의 자료형을 오브젝트로 인식함"
   ]
  },
  {
   "cell_type": "code",
   "execution_count": 9,
   "id": "protected-dialogue",
   "metadata": {},
   "outputs": [
    {
     "name": "stdout",
     "output_type": "stream",
     "text": [
      "Occupation    Statistician\n",
      "Born            1876-06-13\n",
      "Died            1937-10-16\n",
      "Age                     61\n",
      "Name: William Gosset, dtype: object\n"
     ]
    }
   ],
   "source": [
    "print(first_row)"
   ]
  },
  {
   "cell_type": "markdown",
   "id": "complete-wisconsin",
   "metadata": {},
   "source": [
    "# 시리즈 속성과 메서드 사용하기\n",
    "- index 속성 사용하기\n",
    "- values 속성 사용하기\n",
    "- key 메서드 사용하기"
   ]
  },
  {
   "cell_type": "markdown",
   "id": "iraqi-therapy",
   "metadata": {},
   "source": [
    "### 1. index 속성 사용하기"
   ]
  },
  {
   "cell_type": "code",
   "execution_count": 10,
   "id": "ranking-performance",
   "metadata": {},
   "outputs": [
    {
     "name": "stdout",
     "output_type": "stream",
     "text": [
      "Index(['Occupation', 'Born', 'Died', 'Age'], dtype='object')\n"
     ]
    }
   ],
   "source": [
    "print(first_row.index)"
   ]
  },
  {
   "cell_type": "markdown",
   "id": "determined-jefferson",
   "metadata": {},
   "source": [
    "### 2. values 속성 사용하기"
   ]
  },
  {
   "cell_type": "code",
   "execution_count": 11,
   "id": "alien-crisis",
   "metadata": {},
   "outputs": [
    {
     "name": "stdout",
     "output_type": "stream",
     "text": [
      "['Statistician' '1876-06-13' '1937-10-16' 61]\n"
     ]
    }
   ],
   "source": [
    "print(first_row.values)"
   ]
  },
  {
   "cell_type": "markdown",
   "id": "lasting-citizenship",
   "metadata": {},
   "source": [
    "### 3. keys 메서드 사용하기"
   ]
  },
  {
   "cell_type": "code",
   "execution_count": 12,
   "id": "lucky-physiology",
   "metadata": {},
   "outputs": [
    {
     "name": "stdout",
     "output_type": "stream",
     "text": [
      "Index(['Occupation', 'Born', 'Died', 'Age'], dtype='object')\n"
     ]
    }
   ],
   "source": [
    "print(first_row.keys())"
   ]
  },
  {
   "cell_type": "markdown",
   "id": "humanitarian-museum",
   "metadata": {},
   "source": [
    "## 시리즈의 mean, min, max, std 메서드 사용하기"
   ]
  },
  {
   "cell_type": "code",
   "execution_count": 13,
   "id": "painful-storage",
   "metadata": {},
   "outputs": [],
   "source": [
    "ages = scientists['Age']"
   ]
  },
  {
   "cell_type": "code",
   "execution_count": 14,
   "id": "hungry-pantyhose",
   "metadata": {},
   "outputs": [
    {
     "name": "stdout",
     "output_type": "stream",
     "text": [
      "Rosaline Franklin    37\n",
      "William Gosset       61\n",
      "Name: Age, dtype: int64\n"
     ]
    }
   ],
   "source": [
    "print(ages)"
   ]
  },
  {
   "cell_type": "code",
   "execution_count": 15,
   "id": "headed-laugh",
   "metadata": {},
   "outputs": [
    {
     "name": "stdout",
     "output_type": "stream",
     "text": [
      "49.0\n"
     ]
    }
   ],
   "source": [
    "print(ages.mean())"
   ]
  },
  {
   "cell_type": "code",
   "execution_count": 16,
   "id": "circular-auditor",
   "metadata": {},
   "outputs": [
    {
     "name": "stdout",
     "output_type": "stream",
     "text": [
      "37\n"
     ]
    }
   ],
   "source": [
    "print(ages.min())"
   ]
  },
  {
   "cell_type": "code",
   "execution_count": 18,
   "id": "acoustic-laptop",
   "metadata": {},
   "outputs": [
    {
     "name": "stdout",
     "output_type": "stream",
     "text": [
      "61\n"
     ]
    }
   ],
   "source": [
    "print(ages.max())"
   ]
  },
  {
   "cell_type": "code",
   "execution_count": 19,
   "id": "international-boost",
   "metadata": {
    "scrolled": true
   },
   "outputs": [
    {
     "name": "stdout",
     "output_type": "stream",
     "text": [
      "16.97056274847714\n"
     ]
    }
   ],
   "source": [
    "print(ages.std())"
   ]
  },
  {
   "cell_type": "markdown",
   "id": "conscious-gauge",
   "metadata": {},
   "source": [
    "## 시리즈 메서드 정리"
   ]
  },
  {
   "cell_type": "markdown",
   "id": "outstanding-ferry",
   "metadata": {},
   "source": [
    "시리즈 메서드 |설명\n",
    "--------- | ---------\n",
    "append | 2개 이상의 시리즈 연결\n",
    "describe | 요약 통계량 계산\n",
    "drop_duplicates | 중복값이 없는 시리즈 반환\n",
    "equals | 시리즈에 해당 값을 가진 요소가 있는지 확인\n",
    "get_values | 시리즈 값 구하기(values 속성과 동일)\n",
    "isin | 시리즈에 포함된 값이 있는지 확인\n",
    "min | 최솟값 반환\n",
    "max | 최댓값 반환\n",
    "mean | 산술 평균 반환\n",
    "median | 중간값 반환\n",
    "replace | 특정 값을 가진 시리즈 값을 교체\n",
    "sample | 시리즈에서 임의의 값을 반환\n",
    "sort_values | 값을 정렬\n",
    "to_frame | 시리즈를 데이터프레임으로 변환"
   ]
  },
  {
   "cell_type": "code",
   "execution_count": null,
   "id": "surprised-dallas",
   "metadata": {},
   "outputs": [],
   "source": []
  }
 ],
 "metadata": {
  "kernelspec": {
   "display_name": "Python 3",
   "language": "python",
   "name": "python3"
  },
  "language_info": {
   "codemirror_mode": {
    "name": "ipython",
    "version": 3
   },
   "file_extension": ".py",
   "mimetype": "text/x-python",
   "name": "python",
   "nbconvert_exporter": "python",
   "pygments_lexer": "ipython3",
   "version": "3.9.2"
  }
 },
 "nbformat": 4,
 "nbformat_minor": 5
}
